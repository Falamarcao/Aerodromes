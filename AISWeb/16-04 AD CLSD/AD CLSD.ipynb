{
 "cells": [
  {
   "cell_type": "code",
   "execution_count": 1,
   "metadata": {},
   "outputs": [],
   "source": [
    "# helper function\n",
    "from os import listdir\n",
    "def dir_files(name: str, folder: str = None):\n",
    "    if folder:\n",
    "        files = [folder + e for e in listdir(folder) if (e[-4:] == \".xls\") or (e[-4:] == \".csv\")]\n",
    "    else:\n",
    "        files = [e for e in listdir() if (e[-4:] == \".xls\") or (e[-4:] == \".csv\")]\n",
    "    print(name+\": \"+ \", \".join(files))\n",
    "    return files"
   ]
  },
  {
   "cell_type": "code",
   "execution_count": 2,
   "metadata": {},
   "outputs": [
    {
     "name": "stdout",
     "output_type": "stream",
     "text": [
      "AISWeb: : output_aisweb_d615a4d6d1.csv\n"
     ]
    }
   ],
   "source": [
    "files = dir_files('AISWeb: ')"
   ]
  },
  {
   "cell_type": "code",
   "execution_count": 3,
   "metadata": {},
   "outputs": [
    {
     "data": {
      "text/html": [
       "<div>\n",
       "<style scoped>\n",
       "    .dataframe tbody tr th:only-of-type {\n",
       "        vertical-align: middle;\n",
       "    }\n",
       "\n",
       "    .dataframe tbody tr th {\n",
       "        vertical-align: top;\n",
       "    }\n",
       "\n",
       "    .dataframe thead th {\n",
       "        text-align: right;\n",
       "    }\n",
       "</style>\n",
       "<table border=\"1\" class=\"dataframe\">\n",
       "  <thead>\n",
       "    <tr style=\"text-align: right;\">\n",
       "      <th></th>\n",
       "      <th>ICAO</th>\n",
       "      <th>CIAD</th>\n",
       "      <th>Aeródromo</th>\n",
       "      <th>Cidade</th>\n",
       "      <th>UF</th>\n",
       "      <th>Alerta</th>\n",
       "      <th>NOTAM</th>\n",
       "      <th>STATUS</th>\n",
       "    </tr>\n",
       "  </thead>\n",
       "  <tbody>\n",
       "    <tr>\n",
       "      <th>0</th>\n",
       "      <td>SSOK</td>\n",
       "      <td>PR0088</td>\n",
       "      <td>14 Bis</td>\n",
       "      <td>LONDRINA</td>\n",
       "      <td>PR</td>\n",
       "      <td>NaN</td>\n",
       "      <td>{'badge_info': 'E0479/19', 'titulo': ' R E0032...</td>\n",
       "      <td>OK</td>\n",
       "    </tr>\n",
       "    <tr>\n",
       "      <th>1</th>\n",
       "      <td>SIJQ</td>\n",
       "      <td>MT0099</td>\n",
       "      <td>A2 Aviação Agrícola Ltda</td>\n",
       "      <td>ALTA FLORESTA</td>\n",
       "      <td>MT</td>\n",
       "      <td>NaN</td>\n",
       "      <td>[]</td>\n",
       "      <td>OK</td>\n",
       "    </tr>\n",
       "    <tr>\n",
       "      <th>2</th>\n",
       "      <td>SNDH</td>\n",
       "      <td>BA0132</td>\n",
       "      <td>ABA</td>\n",
       "      <td>BARREIRAS</td>\n",
       "      <td>BA</td>\n",
       "      <td>NaN</td>\n",
       "      <td>[]</td>\n",
       "      <td>OK</td>\n",
       "    </tr>\n",
       "    <tr>\n",
       "      <th>3</th>\n",
       "      <td>SIGN</td>\n",
       "      <td>GO0038</td>\n",
       "      <td>ACGC</td>\n",
       "      <td>MIMOSO DE GOIÁS</td>\n",
       "      <td>GO</td>\n",
       "      <td>NaN</td>\n",
       "      <td>[]</td>\n",
       "      <td>OK</td>\n",
       "    </tr>\n",
       "    <tr>\n",
       "      <th>4</th>\n",
       "      <td>SDGA</td>\n",
       "      <td>MS0029</td>\n",
       "      <td>Adecoagro</td>\n",
       "      <td>ANGÉLICA</td>\n",
       "      <td>MS</td>\n",
       "      <td>NaN</td>\n",
       "      <td>[]</td>\n",
       "      <td>OK</td>\n",
       "    </tr>\n",
       "  </tbody>\n",
       "</table>\n",
       "</div>"
      ],
      "text/plain": [
       "   ICAO    CIAD                 Aeródromo           Cidade  UF Alerta  \\\n",
       "0  SSOK  PR0088                    14 Bis         LONDRINA  PR    NaN   \n",
       "1  SIJQ  MT0099  A2 Aviação Agrícola Ltda    ALTA FLORESTA  MT    NaN   \n",
       "2  SNDH  BA0132                       ABA        BARREIRAS  BA    NaN   \n",
       "3  SIGN  GO0038                      ACGC  MIMOSO DE GOIÁS  GO    NaN   \n",
       "4  SDGA  MS0029                 Adecoagro         ANGÉLICA  MS    NaN   \n",
       "\n",
       "                                               NOTAM STATUS  \n",
       "0  {'badge_info': 'E0479/19', 'titulo': ' R E0032...     OK  \n",
       "1                                                 []     OK  \n",
       "2                                                 []     OK  \n",
       "3                                                 []     OK  \n",
       "4                                                 []     OK  "
      ]
     },
     "execution_count": 3,
     "metadata": {},
     "output_type": "execute_result"
    }
   ],
   "source": [
    "from pandas import read_csv\n",
    "df =  read_csv(files[0], sep=',', encoding='latin-1')\n",
    "df.head()"
   ]
  },
  {
   "cell_type": "code",
   "execution_count": 49,
   "metadata": {},
   "outputs": [
    {
     "data": {
      "text/plain": [
       "\"{'badge_info': 'E0479/19', 'titulo': ' R E0032/19 13/03/2019 23:19', 'texto2': 'GND'}\""
      ]
     },
     "execution_count": 49,
     "metadata": {},
     "output_type": "execute_result"
    }
   ],
   "source": [
    "df.NOTAM[0]"
   ]
  },
  {
   "cell_type": "code",
   "execution_count": 71,
   "metadata": {},
   "outputs": [],
   "source": [
    "output = dict(df[df.ICAO == 'SWLC'].NOTAM)"
   ]
  },
  {
   "cell_type": "code",
   "execution_count": null,
   "metadata": {},
   "outputs": [],
   "source": []
  }
 ],
 "metadata": {
  "kernelspec": {
   "display_name": "Python 3",
   "language": "python",
   "name": "python3"
  },
  "language_info": {
   "codemirror_mode": {
    "name": "ipython",
    "version": 3
   },
   "file_extension": ".py",
   "mimetype": "text/x-python",
   "name": "python",
   "nbconvert_exporter": "python",
   "pygments_lexer": "ipython3",
   "version": "3.7.3"
  }
 },
 "nbformat": 4,
 "nbformat_minor": 2
}
