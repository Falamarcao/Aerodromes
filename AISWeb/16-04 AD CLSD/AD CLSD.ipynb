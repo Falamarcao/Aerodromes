{
 "cells": [
  {
   "cell_type": "markdown",
   "metadata": {},
   "source": [
    "# AISWeb - Aeródromos Públicos e Privados"
   ]
  },
  {
   "cell_type": "code",
   "execution_count": 1,
   "metadata": {},
   "outputs": [],
   "source": [
    "# helper function\n",
    "from os import listdir\n",
    "def dir_files(name: str, folder: str = None):\n",
    "    if folder:\n",
    "        files = [folder + e for e in listdir(folder) if (e[-4:] == \".xls\") or (e[-4:] == \".csv\")]\n",
    "    else:\n",
    "        files = [e for e in listdir() if (e[-4:] == \".xls\") or (e[-4:] == \".csv\")]\n",
    "    print(name+\": \"+ \", \".join(files))\n",
    "    return files"
   ]
  },
  {
   "cell_type": "code",
   "execution_count": 2,
   "metadata": {},
   "outputs": [
    {
     "name": "stdout",
     "output_type": "stream",
     "text": [
      "AISWeb: : output_aisweb_56c6bd3270.csv\n"
     ]
    }
   ],
   "source": [
    "files = dir_files('AISWeb: ')"
   ]
  },
  {
   "cell_type": "code",
   "execution_count": 3,
   "metadata": {},
   "outputs": [
    {
     "data": {
      "text/html": [
       "<div>\n",
       "<style scoped>\n",
       "    .dataframe tbody tr th:only-of-type {\n",
       "        vertical-align: middle;\n",
       "    }\n",
       "\n",
       "    .dataframe tbody tr th {\n",
       "        vertical-align: top;\n",
       "    }\n",
       "\n",
       "    .dataframe thead th {\n",
       "        text-align: right;\n",
       "    }\n",
       "</style>\n",
       "<table border=\"1\" class=\"dataframe\">\n",
       "  <thead>\n",
       "    <tr style=\"text-align: right;\">\n",
       "      <th></th>\n",
       "      <th>ICAO</th>\n",
       "      <th>CIAD</th>\n",
       "      <th>Aeródromo</th>\n",
       "      <th>Cidade</th>\n",
       "      <th>UF</th>\n",
       "      <th>Alerta</th>\n",
       "      <th>NOTAM</th>\n",
       "      <th>STATUS</th>\n",
       "    </tr>\n",
       "  </thead>\n",
       "  <tbody>\n",
       "    <tr>\n",
       "      <th>0</th>\n",
       "      <td>SSOK</td>\n",
       "      <td>PR0088</td>\n",
       "      <td>14 Bis</td>\n",
       "      <td>LONDRINA</td>\n",
       "      <td>PR</td>\n",
       "      <td>NaN</td>\n",
       "      <td>[{'badge_info': 'E0479/19', 'titulo': ' R E003...</td>\n",
       "      <td>OK</td>\n",
       "    </tr>\n",
       "    <tr>\n",
       "      <th>1</th>\n",
       "      <td>SIJQ</td>\n",
       "      <td>MT0099</td>\n",
       "      <td>A2 Aviação Agrícola Ltda</td>\n",
       "      <td>ALTA FLORESTA</td>\n",
       "      <td>MT</td>\n",
       "      <td>NaN</td>\n",
       "      <td>[]</td>\n",
       "      <td>OK</td>\n",
       "    </tr>\n",
       "    <tr>\n",
       "      <th>2</th>\n",
       "      <td>SNDH</td>\n",
       "      <td>BA0132</td>\n",
       "      <td>ABA</td>\n",
       "      <td>BARREIRAS</td>\n",
       "      <td>BA</td>\n",
       "      <td>NaN</td>\n",
       "      <td>[]</td>\n",
       "      <td>OK</td>\n",
       "    </tr>\n",
       "    <tr>\n",
       "      <th>3</th>\n",
       "      <td>SIGN</td>\n",
       "      <td>GO0038</td>\n",
       "      <td>ACGC</td>\n",
       "      <td>MIMOSO DE GOIÁS</td>\n",
       "      <td>GO</td>\n",
       "      <td>NaN</td>\n",
       "      <td>[]</td>\n",
       "      <td>OK</td>\n",
       "    </tr>\n",
       "    <tr>\n",
       "      <th>4</th>\n",
       "      <td>SDGA</td>\n",
       "      <td>MS0029</td>\n",
       "      <td>Adecoagro</td>\n",
       "      <td>ANGÉLICA</td>\n",
       "      <td>MS</td>\n",
       "      <td>NaN</td>\n",
       "      <td>[]</td>\n",
       "      <td>OK</td>\n",
       "    </tr>\n",
       "  </tbody>\n",
       "</table>\n",
       "</div>"
      ],
      "text/plain": [
       "   ICAO    CIAD                 Aeródromo           Cidade  UF Alerta  \\\n",
       "0  SSOK  PR0088                    14 Bis         LONDRINA  PR    NaN   \n",
       "1  SIJQ  MT0099  A2 Aviação Agrícola Ltda    ALTA FLORESTA  MT    NaN   \n",
       "2  SNDH  BA0132                       ABA        BARREIRAS  BA    NaN   \n",
       "3  SIGN  GO0038                      ACGC  MIMOSO DE GOIÁS  GO    NaN   \n",
       "4  SDGA  MS0029                 Adecoagro         ANGÉLICA  MS    NaN   \n",
       "\n",
       "                                               NOTAM STATUS  \n",
       "0  [{'badge_info': 'E0479/19', 'titulo': ' R E003...     OK  \n",
       "1                                                 []     OK  \n",
       "2                                                 []     OK  \n",
       "3                                                 []     OK  \n",
       "4                                                 []     OK  "
      ]
     },
     "execution_count": 3,
     "metadata": {},
     "output_type": "execute_result"
    }
   ],
   "source": [
    "from pandas import read_csv\n",
    "df =  read_csv(files[0], sep=',', encoding='latin-1')\n",
    "df.head()"
   ]
  },
  {
   "cell_type": "code",
   "execution_count": 4,
   "metadata": {},
   "outputs": [
    {
     "data": {
      "text/plain": [
       "ICAO         2630\n",
       "CIAD         2568\n",
       "Aeródromo    2567\n",
       "Cidade       2567\n",
       "UF           2567\n",
       "Alerta        222\n",
       "NOTAM        2629\n",
       "STATUS       2630\n",
       "dtype: int64"
      ]
     },
     "execution_count": 4,
     "metadata": {},
     "output_type": "execute_result"
    }
   ],
   "source": [
    "df.count()"
   ]
  },
  {
   "cell_type": "markdown",
   "metadata": {},
   "source": [
    "### Há valores nulos (NaN)?"
   ]
  },
  {
   "cell_type": "code",
   "execution_count": 5,
   "metadata": {},
   "outputs": [
    {
     "data": {
      "text/plain": [
       "ICAO            0\n",
       "CIAD           62\n",
       "Aeródromo      63\n",
       "Cidade         63\n",
       "UF             63\n",
       "Alerta       2408\n",
       "NOTAM           1\n",
       "STATUS          0\n",
       "dtype: int64"
      ]
     },
     "execution_count": 5,
     "metadata": {},
     "output_type": "execute_result"
    }
   ],
   "source": [
    "df.isnull().sum()"
   ]
  },
  {
   "cell_type": "markdown",
   "metadata": {},
   "source": [
    "<h3>Aeródromos não encontrados (fechado, localidade cancelada, Localidade reservada aguardando portaria da ANAC)</h3>\n",
    "<p>Estes aeródromos estão sinalizados para realizar uma segunda extração de dados na url https://www.aisweb.decea.gov.br</p>"
   ]
  },
  {
   "cell_type": "code",
   "execution_count": 6,
   "metadata": {},
   "outputs": [
    {
     "name": "stdout",
     "output_type": "stream",
     "text": [
      "Quantidade de aeródromos não encontrados: 61\n"
     ]
    }
   ],
   "source": [
    "print(f\"Quantidade de aeródromos não encontrados: {df.ICAO[df.Alerta.str.contains('O aeródromo não foi encontrado.') == True].count()}\")"
   ]
  },
  {
   "cell_type": "code",
   "execution_count": 7,
   "metadata": {},
   "outputs": [
    {
     "data": {
      "text/html": [
       "<div>\n",
       "<style scoped>\n",
       "    .dataframe tbody tr th:only-of-type {\n",
       "        vertical-align: middle;\n",
       "    }\n",
       "\n",
       "    .dataframe tbody tr th {\n",
       "        vertical-align: top;\n",
       "    }\n",
       "\n",
       "    .dataframe thead th {\n",
       "        text-align: right;\n",
       "    }\n",
       "</style>\n",
       "<table border=\"1\" class=\"dataframe\">\n",
       "  <thead>\n",
       "    <tr style=\"text-align: right;\">\n",
       "      <th></th>\n",
       "      <th>ICAO</th>\n",
       "      <th>CIAD</th>\n",
       "      <th>Aeródromo</th>\n",
       "      <th>Cidade</th>\n",
       "      <th>UF</th>\n",
       "      <th>Alerta</th>\n",
       "      <th>NOTAM</th>\n",
       "      <th>STATUS</th>\n",
       "    </tr>\n",
       "  </thead>\n",
       "  <tbody>\n",
       "    <tr>\n",
       "      <th>572</th>\n",
       "      <td>SSXI</td>\n",
       "      <td>NaN</td>\n",
       "      <td>NaN</td>\n",
       "      <td>NaN</td>\n",
       "      <td>NaN</td>\n",
       "      <td>O aeródromo não foi encontrado.</td>\n",
       "      <td>[]</td>\n",
       "      <td>OK</td>\n",
       "    </tr>\n",
       "    <tr>\n",
       "      <th>776</th>\n",
       "      <td>SJWH</td>\n",
       "      <td>NaN</td>\n",
       "      <td>NaN</td>\n",
       "      <td>NaN</td>\n",
       "      <td>NaN</td>\n",
       "      <td>O aeródromo não foi encontrado.</td>\n",
       "      <td>[]</td>\n",
       "      <td>OK</td>\n",
       "    </tr>\n",
       "    <tr>\n",
       "      <th>916</th>\n",
       "      <td>SITM</td>\n",
       "      <td>NaN</td>\n",
       "      <td>NaN</td>\n",
       "      <td>NaN</td>\n",
       "      <td>NaN</td>\n",
       "      <td>O aeródromo não foi encontrado.</td>\n",
       "      <td>[]</td>\n",
       "      <td>OK</td>\n",
       "    </tr>\n",
       "    <tr>\n",
       "      <th>1160</th>\n",
       "      <td>SJZR</td>\n",
       "      <td>NaN</td>\n",
       "      <td>NaN</td>\n",
       "      <td>NaN</td>\n",
       "      <td>NaN</td>\n",
       "      <td>O aeródromo não foi encontrado.</td>\n",
       "      <td>[]</td>\n",
       "      <td>OK</td>\n",
       "    </tr>\n",
       "    <tr>\n",
       "      <th>1166</th>\n",
       "      <td>SDYG</td>\n",
       "      <td>NaN</td>\n",
       "      <td>NaN</td>\n",
       "      <td>NaN</td>\n",
       "      <td>NaN</td>\n",
       "      <td>O aeródromo não foi encontrado.</td>\n",
       "      <td>[]</td>\n",
       "      <td>OK</td>\n",
       "    </tr>\n",
       "  </tbody>\n",
       "</table>\n",
       "</div>"
      ],
      "text/plain": [
       "      ICAO CIAD Aeródromo Cidade   UF                             Alerta  \\\n",
       "572   SSXI  NaN       NaN    NaN  NaN   O aeródromo não foi encontrado.    \n",
       "776   SJWH  NaN       NaN    NaN  NaN   O aeródromo não foi encontrado.    \n",
       "916   SITM  NaN       NaN    NaN  NaN   O aeródromo não foi encontrado.    \n",
       "1160  SJZR  NaN       NaN    NaN  NaN   O aeródromo não foi encontrado.    \n",
       "1166  SDYG  NaN       NaN    NaN  NaN   O aeródromo não foi encontrado.    \n",
       "\n",
       "     NOTAM STATUS  \n",
       "572     []     OK  \n",
       "776     []     OK  \n",
       "916     []     OK  \n",
       "1160    []     OK  \n",
       "1166    []     OK  "
      ]
     },
     "execution_count": 7,
     "metadata": {},
     "output_type": "execute_result"
    }
   ],
   "source": [
    "df[df.Alerta.str.contains('O aeródromo não foi encontrado.') == True].head()"
   ]
  },
  {
   "cell_type": "markdown",
   "metadata": {},
   "source": [
    "## NOTAM"
   ]
  },
  {
   "cell_type": "markdown",
   "metadata": {},
   "source": [
    "#### Aeródromos contendo a string \"AD CLSD DEVIDO NAO APRESENTACAO DO PLANO BASICO DE ZONA DE PROTECAO\" no NOTAM"
   ]
  },
  {
   "cell_type": "code",
   "execution_count": 8,
   "metadata": {},
   "outputs": [],
   "source": [
    "filtro = \"AD CLSD DEVIDO NAO APRESENTACAO DO PLANO BASICO DE ZONA DE PROTECAO\""
   ]
  },
  {
   "cell_type": "code",
   "execution_count": 10,
   "metadata": {},
   "outputs": [
    {
     "data": {
      "text/html": [
       "<div>\n",
       "<style scoped>\n",
       "    .dataframe tbody tr th:only-of-type {\n",
       "        vertical-align: middle;\n",
       "    }\n",
       "\n",
       "    .dataframe tbody tr th {\n",
       "        vertical-align: top;\n",
       "    }\n",
       "\n",
       "    .dataframe thead th {\n",
       "        text-align: right;\n",
       "    }\n",
       "</style>\n",
       "<table border=\"1\" class=\"dataframe\">\n",
       "  <thead>\n",
       "    <tr style=\"text-align: right;\">\n",
       "      <th></th>\n",
       "      <th>ICAO</th>\n",
       "      <th>CIAD</th>\n",
       "      <th>Aeródromo</th>\n",
       "      <th>Cidade</th>\n",
       "      <th>UF</th>\n",
       "      <th>Alerta</th>\n",
       "      <th>NOTAM</th>\n",
       "      <th>STATUS</th>\n",
       "    </tr>\n",
       "  </thead>\n",
       "  <tbody>\n",
       "    <tr>\n",
       "      <th>2277</th>\n",
       "      <td>SNAM</td>\n",
       "      <td>MG0052</td>\n",
       "      <td>Santo Antônio do Amparo</td>\n",
       "      <td>SANTO ANTÔNIO DO AMPARO</td>\n",
       "      <td>MG</td>\n",
       "      <td>NaN</td>\n",
       "      <td>[{'badge_info': 'F0660/19', 'titulo': ' N 11/0...</td>\n",
       "      <td>OK</td>\n",
       "    </tr>\n",
       "    <tr>\n",
       "      <th>2361</th>\n",
       "      <td>SNMN</td>\n",
       "      <td>MG0075</td>\n",
       "      <td>Minas Novas</td>\n",
       "      <td>MINAS NOVAS</td>\n",
       "      <td>MG</td>\n",
       "      <td>NaN</td>\n",
       "      <td>[{'badge_info': 'F0656/19', 'titulo': ' N 11/0...</td>\n",
       "      <td>OK</td>\n",
       "    </tr>\n",
       "    <tr>\n",
       "      <th>2402</th>\n",
       "      <td>SNSI</td>\n",
       "      <td>MG0076</td>\n",
       "      <td>Santa Maria do Suaçuí</td>\n",
       "      <td>SANTA MARIA DO SUAÇUÍ</td>\n",
       "      <td>MG</td>\n",
       "      <td>NaN</td>\n",
       "      <td>[{'badge_info': 'F0696/19', 'titulo': ' R F048...</td>\n",
       "      <td>OK</td>\n",
       "    </tr>\n",
       "    <tr>\n",
       "      <th>2404</th>\n",
       "      <td>SNSO</td>\n",
       "      <td>MG0064</td>\n",
       "      <td>Serro</td>\n",
       "      <td>SERRO</td>\n",
       "      <td>MG</td>\n",
       "      <td>NaN</td>\n",
       "      <td>[{'badge_info': 'F0657/19', 'titulo': ' N 11/0...</td>\n",
       "      <td>OK</td>\n",
       "    </tr>\n",
       "    <tr>\n",
       "      <th>2568</th>\n",
       "      <td>SWDM</td>\n",
       "      <td>MT0015</td>\n",
       "      <td>DIAMANTINO</td>\n",
       "      <td>DIAMANTINO</td>\n",
       "      <td>MT</td>\n",
       "      <td>NaN</td>\n",
       "      <td>[{'badge_info': 'G0291/19', 'titulo': ' R G141...</td>\n",
       "      <td>OK</td>\n",
       "    </tr>\n",
       "    <tr>\n",
       "      <th>2577</th>\n",
       "      <td>SWHG</td>\n",
       "      <td>GO0032</td>\n",
       "      <td>Santa Helena de Goiás</td>\n",
       "      <td>SANTA HELENA DE GOIÁS</td>\n",
       "      <td>GO</td>\n",
       "      <td>NaN</td>\n",
       "      <td>[{'badge_info': 'F0016/19', 'titulo': ' N 07/0...</td>\n",
       "      <td>OK</td>\n",
       "    </tr>\n",
       "    <tr>\n",
       "      <th>2590</th>\n",
       "      <td>SWLC</td>\n",
       "      <td>GO0024</td>\n",
       "      <td>GEN. LEITE DE CASTRO</td>\n",
       "      <td>RIO VERDE</td>\n",
       "      <td>GO</td>\n",
       "      <td>NaN</td>\n",
       "      <td>[{'badge_info': 'F0655/19', 'titulo': ' N 11/0...</td>\n",
       "      <td>OK</td>\n",
       "    </tr>\n",
       "    <tr>\n",
       "      <th>2598</th>\n",
       "      <td>SWNR</td>\n",
       "      <td>MT0019</td>\n",
       "      <td>NORTELÂNDIA</td>\n",
       "      <td>NORTELÂNDIA</td>\n",
       "      <td>MT</td>\n",
       "      <td>NaN</td>\n",
       "      <td>[{'badge_info': 'G0289/19', 'titulo': ' R G141...</td>\n",
       "      <td>OK</td>\n",
       "    </tr>\n",
       "    <tr>\n",
       "      <th>2602</th>\n",
       "      <td>SWPG</td>\n",
       "      <td>MT0010</td>\n",
       "      <td>PORTO DOS GAÚCHOS</td>\n",
       "      <td>PORTO DOS GAÚCHOS</td>\n",
       "      <td>MT</td>\n",
       "      <td>NaN</td>\n",
       "      <td>[{'badge_info': 'G0287/19', 'titulo': ' R G141...</td>\n",
       "      <td>OK</td>\n",
       "    </tr>\n",
       "    <tr>\n",
       "      <th>2605</th>\n",
       "      <td>SWPL</td>\n",
       "      <td>MT0027</td>\n",
       "      <td>POSTO LEONARDO VILAS BOAS</td>\n",
       "      <td>CHAPADA DOS GUIMARÃES</td>\n",
       "      <td>MT</td>\n",
       "      <td>NaN</td>\n",
       "      <td>[{'badge_info': 'G0290/19', 'titulo': ' R G141...</td>\n",
       "      <td>OK</td>\n",
       "    </tr>\n",
       "    <tr>\n",
       "      <th>2621</th>\n",
       "      <td>SWVB</td>\n",
       "      <td>MT0005</td>\n",
       "      <td>VILA BELA DA SS. TRINDADE</td>\n",
       "      <td>VILA BELA DA SANTÍSSIMA TRINDADE</td>\n",
       "      <td>MT</td>\n",
       "      <td>NaN</td>\n",
       "      <td>[{'badge_info': 'G0288/19', 'titulo': ' R G141...</td>\n",
       "      <td>OK</td>\n",
       "    </tr>\n",
       "  </tbody>\n",
       "</table>\n",
       "</div>"
      ],
      "text/plain": [
       "      ICAO    CIAD                  Aeródromo  \\\n",
       "2277  SNAM  MG0052    Santo Antônio do Amparo   \n",
       "2361  SNMN  MG0075                Minas Novas   \n",
       "2402  SNSI  MG0076      Santa Maria do Suaçuí   \n",
       "2404  SNSO  MG0064                      Serro   \n",
       "2568  SWDM  MT0015                 DIAMANTINO   \n",
       "2577  SWHG  GO0032      Santa Helena de Goiás   \n",
       "2590  SWLC  GO0024       GEN. LEITE DE CASTRO   \n",
       "2598  SWNR  MT0019                NORTELÂNDIA   \n",
       "2602  SWPG  MT0010          PORTO DOS GAÚCHOS   \n",
       "2605  SWPL  MT0027  POSTO LEONARDO VILAS BOAS   \n",
       "2621  SWVB  MT0005  VILA BELA DA SS. TRINDADE   \n",
       "\n",
       "                                Cidade  UF Alerta  \\\n",
       "2277           SANTO ANTÔNIO DO AMPARO  MG    NaN   \n",
       "2361                       MINAS NOVAS  MG    NaN   \n",
       "2402             SANTA MARIA DO SUAÇUÍ  MG    NaN   \n",
       "2404                             SERRO  MG    NaN   \n",
       "2568                        DIAMANTINO  MT    NaN   \n",
       "2577             SANTA HELENA DE GOIÁS  GO    NaN   \n",
       "2590                         RIO VERDE  GO    NaN   \n",
       "2598                       NORTELÂNDIA  MT    NaN   \n",
       "2602                 PORTO DOS GAÚCHOS  MT    NaN   \n",
       "2605             CHAPADA DOS GUIMARÃES  MT    NaN   \n",
       "2621  VILA BELA DA SANTÍSSIMA TRINDADE  MT    NaN   \n",
       "\n",
       "                                                  NOTAM STATUS  \n",
       "2277  [{'badge_info': 'F0660/19', 'titulo': ' N 11/0...     OK  \n",
       "2361  [{'badge_info': 'F0656/19', 'titulo': ' N 11/0...     OK  \n",
       "2402  [{'badge_info': 'F0696/19', 'titulo': ' R F048...     OK  \n",
       "2404  [{'badge_info': 'F0657/19', 'titulo': ' N 11/0...     OK  \n",
       "2568  [{'badge_info': 'G0291/19', 'titulo': ' R G141...     OK  \n",
       "2577  [{'badge_info': 'F0016/19', 'titulo': ' N 07/0...     OK  \n",
       "2590  [{'badge_info': 'F0655/19', 'titulo': ' N 11/0...     OK  \n",
       "2598  [{'badge_info': 'G0289/19', 'titulo': ' R G141...     OK  \n",
       "2602  [{'badge_info': 'G0287/19', 'titulo': ' R G141...     OK  \n",
       "2605  [{'badge_info': 'G0290/19', 'titulo': ' R G141...     OK  \n",
       "2621  [{'badge_info': 'G0288/19', 'titulo': ' R G141...     OK  "
      ]
     },
     "execution_count": 10,
     "metadata": {},
     "output_type": "execute_result"
    }
   ],
   "source": [
    "ad_clsd_pbzpa = df[df.NOTAM.str.contains(filtro) == True]\n",
    "ad_clsd_pbzpa"
   ]
  },
  {
   "cell_type": "code",
   "execution_count": null,
   "metadata": {},
   "outputs": [],
   "source": [
    "ad_clsd_pbzpa.to_excel('notam_ad_clsd_pbzpa.xlsx', index=False, na_rep='')"
   ]
  },
  {
   "cell_type": "markdown",
   "metadata": {},
   "source": [
    "#### Por que SNAP não aparece?"
   ]
  },
  {
   "cell_type": "code",
   "execution_count": 14,
   "metadata": {},
   "outputs": [
    {
     "data": {
      "text/plain": [
       "True"
      ]
     },
     "execution_count": 14,
     "metadata": {},
     "output_type": "execute_result"
    }
   ],
   "source": [
    "any(df.ICAO.str.contains('SNAP') == True)"
   ]
  },
  {
   "cell_type": "code",
   "execution_count": 24,
   "metadata": {},
   "outputs": [
    {
     "data": {
      "text/plain": [
       "{2278: \"[{'badge_info': 'Revogado', 'titulo': 'NFOTEMP 1435/2018', 'texto2': 'Duração:'}]\"}"
      ]
     },
     "execution_count": 24,
     "metadata": {},
     "output_type": "execute_result"
    }
   ],
   "source": [
    "df[df.ICAO == 'SNAP'].NOTAM.to_dict()"
   ]
  },
  {
   "cell_type": "markdown",
   "metadata": {},
   "source": [
    "#### São Aeródromos Públicos?"
   ]
  },
  {
   "cell_type": "code",
   "execution_count": null,
   "metadata": {},
   "outputs": [],
   "source": [
    "# helper function\n",
    "from os import listdir\n",
    "def dir_files(name: str, folder: str):\n",
    "    files = [folder + e for e in listdir(folder) if (e[-4:] == \".xls\") or (e[-4:] == \".csv\")]\n",
    "    print(name+\": \"+ \", \".join(files))\n",
    "    return files"
   ]
  },
  {
   "cell_type": "code",
   "execution_count": null,
   "metadata": {},
   "outputs": [],
   "source": [
    "public_private = dir_files('Aeródromos públicos e privados', r'E:/Users/falam/IdeaProjects/Aerodromos/ANAC/Beta/public_private/')"
   ]
  },
  {
   "cell_type": "code",
   "execution_count": null,
   "metadata": {},
   "outputs": [],
   "source": [
    "from pandas import read_excel\n",
    "aerodromos_publicos =  read_excel(public_private[1], sheet_name=0, header=[1,2])\n",
    "aerodromos_publicos.head()"
   ]
  },
  {
   "cell_type": "code",
   "execution_count": null,
   "metadata": {},
   "outputs": [],
   "source": [
    "ad_clsd_pbzpa.ICAO.isin(aerodromos_publicos.iloc[:,0])"
   ]
  },
  {
   "cell_type": "code",
   "execution_count": null,
   "metadata": {},
   "outputs": [],
   "source": []
  }
 ],
 "metadata": {
  "kernelspec": {
   "display_name": "Python 3",
   "language": "python",
   "name": "python3"
  },
  "language_info": {
   "codemirror_mode": {
    "name": "ipython",
    "version": 3
   },
   "file_extension": ".py",
   "mimetype": "text/x-python",
   "name": "python",
   "nbconvert_exporter": "python",
   "pygments_lexer": "ipython3",
   "version": "3.7.3"
  }
 },
 "nbformat": 4,
 "nbformat_minor": 2
}
