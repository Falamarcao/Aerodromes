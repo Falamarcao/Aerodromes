{
 "cells": [
  {
   "cell_type": "code",
   "execution_count": 21,
   "metadata": {},
   "outputs": [],
   "source": [
    "html='<div class=\"notam\" style=\"text-decoration: line-through; color: #CCC !important;\"><h5><small><span class=\"badge badge-danger\">Revogado</span>INFOTEMP 1435/2018</small></h5><div>AD CLSD DEVIDO NAO APRESENTACAO DO PLANO BASICO DE ZONA DE PROTECAO <p></p></div><p><span>Duração:</span><span class=\"badge badge-light\">07/12/18 00:00 a 04/06/19 23:05 UTC</span> | Divulgação: <span class=\"badge badge-light\">27/11/2018 22:58</span></p></div>'"
   ]
  },
  {
   "cell_type": "code",
   "execution_count": 16,
   "metadata": {},
   "outputs": [
    {
     "data": {
      "text/plain": [
       "['',\n",
       " 'div class=\"notam\" style=\"text-decoration: line-through; color: #CCC !important;\">',\n",
       " 'h5>',\n",
       " 'small>',\n",
       " 'span class=\"badge badge-danger\">Revogado',\n",
       " '/span>INFOTEMP 1435/2018',\n",
       " '/small>',\n",
       " '/h5>',\n",
       " 'div>AD CLSD DEVIDO NAO APRESENTACAO DO PLANO BASICO DE ZONA DE PROTECAO ',\n",
       " 'p>',\n",
       " '/p>',\n",
       " '/div>',\n",
       " 'p>',\n",
       " 'span>Duração:',\n",
       " '/span>',\n",
       " 'span class=\"badge badge-light\">07/12/18 00:00 a 04/06/19 23:05 UTC',\n",
       " '/span> | Divulgação: ',\n",
       " 'span class=\"badge badge-light\">27/11/2018 22:58',\n",
       " '/span>',\n",
       " '/p>',\n",
       " '/div>']"
      ]
     },
     "execution_count": 16,
     "metadata": {},
     "output_type": "execute_result"
    }
   ],
   "source": [
    "html"
   ]
  },
  {
   "cell_type": "code",
   "execution_count": 52,
   "metadata": {},
   "outputs": [
    {
     "data": {
      "text/plain": [
       "'Revogado INFOTEMP 1435/2018 AD CLSD DEVIDO NAO APRESENTACAO DO PLANO BASICO DE ZONA DE PROTECAO Duração: 07/12/18 00:00 a 04/06/19 23:05 UTC  | Divulgação: 27/11/2018 22:58'"
      ]
     },
     "execution_count": 52,
     "metadata": {},
     "output_type": "execute_result"
    }
   ],
   "source": [
    "lsthtml = html.split('<')\n",
    "notam = \"\"\n",
    "for x in range(1,len(lsthtml)-1):\n",
    "    line = lsthtml[x].split('>')[1]\n",
    "    if (len(line) > 0) and (line[-1] != \" \"):\n",
    "        line += \" \"\n",
    "    notam += line\n",
    "notam.strip()"
   ]
  },
  {
   "cell_type": "code",
   "execution_count": 65,
   "metadata": {},
   "outputs": [],
   "source": [
    "from requests import Session"
   ]
  },
  {
   "cell_type": "code",
   "execution_count": 72,
   "metadata": {},
   "outputs": [],
   "source": [
    "sess = Session()\n",
    "\n",
    "headers: dict = {\"Accept\": \"text/html,application/xhtml+xml,application/xml;\"\n",
    "                                        \"q=0.9,image/webp,image/apng,*/*;\"\n",
    "                                        \"q=0.8,application/signed-exchange;v=b3\",\n",
    "                              \"User-Agent\": \"Studentbot\"}\n",
    "params: dict = {\"i\":\"busca\"}\n",
    "data: dict = {\"q\": \"SITM\"}\n",
    "    \n",
    "r = sess.post(\"https://www.aisweb.decea.gov.br/\", params=params, data=data, headers=headers)"
   ]
  },
  {
   "cell_type": "code",
   "execution_count": 73,
   "metadata": {},
   "outputs": [
    {
     "data": {
      "text/plain": [
       "15190"
      ]
     },
     "execution_count": 73,
     "metadata": {},
     "output_type": "execute_result"
    }
   ],
   "source": [
    "r.content.find(b\"Localidade cancelada\")"
   ]
  },
  {
   "cell_type": "code",
   "execution_count": 74,
   "metadata": {},
   "outputs": [],
   "source": [
    "from lxml.html import fromstring"
   ]
  },
  {
   "cell_type": "code",
   "execution_count": 76,
   "metadata": {},
   "outputs": [
    {
     "data": {
      "text/plain": [
       "'Localidade cancelada'"
      ]
     },
     "execution_count": 76,
     "metadata": {},
     "output_type": "execute_result"
    }
   ],
   "source": [
    "page = fromstring(r.content)\n",
    "page.xpath('/html/body/div/div/section[1]/div/div/div[2]/div/div/div[2]/div/div/strong/text()')[0]"
   ]
  },
  {
   "cell_type": "code",
   "execution_count": null,
   "metadata": {},
   "outputs": [],
   "source": []
  }
 ],
 "metadata": {
  "kernelspec": {
   "display_name": "Python 3",
   "language": "python",
   "name": "python3"
  },
  "language_info": {
   "codemirror_mode": {
    "name": "ipython",
    "version": 3
   },
   "file_extension": ".py",
   "mimetype": "text/x-python",
   "name": "python",
   "nbconvert_exporter": "python",
   "pygments_lexer": "ipython3",
   "version": "3.7.3"
  }
 },
 "nbformat": 4,
 "nbformat_minor": 2
}
