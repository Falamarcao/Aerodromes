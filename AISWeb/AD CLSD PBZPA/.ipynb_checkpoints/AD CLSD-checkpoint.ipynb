{
 "cells": [
  {
   "cell_type": "markdown",
   "metadata": {},
   "source": [
    "# Estudo de oportunidades para PBZPA"
   ]
  },
  {
   "cell_type": "code",
   "execution_count": 1,
   "metadata": {},
   "outputs": [],
   "source": [
    "# helper function\n",
    "from os import listdir\n",
    "def dir_files(name: str, folder: str = None):\n",
    "    if folder:\n",
    "        files = [folder + e for e in listdir(folder) if (e[-4:] == \".xls\") or (e[-4:] == \".csv\")]\n",
    "    else:\n",
    "        files = [e for e in listdir() if (e[-4:] == \".xls\") or (e[-4:] == \".csv\")]\n",
    "    print(f\"{name}: {', '.join(files)}\")\n",
    "    return files"
   ]
  },
  {
   "cell_type": "code",
   "execution_count": 29,
   "metadata": {},
   "outputs": [
    {
     "name": "stdout",
     "output_type": "stream",
     "text": [
      "Aeródromos públicos e privados: E:/Users/falam/IdeaProjects/Aerodromos/ANAC/Beta/public_private/Aeródromos Privados_28MAR2019.xls, E:/Users/falam/IdeaProjects/Aerodromos/ANAC/Beta/public_private/Aeródromos Públicos_28MAR2019.xls\n",
      "AISWeb: output_aisweb_4428c205cd.csv\n"
     ]
    }
   ],
   "source": [
    "from pandas import read_excel\n",
    "from pandas import read_csv\n",
    "\n",
    "public_private = dir_files('Aeródromos públicos e privados', r'E:/Users/falam/IdeaProjects/Aerodromos/ANAC/Beta/public_private/')\n",
    "aerodromos_publicos =  read_excel(public_private[1], sheet_name=0, header=[1,2])\n",
    "aerodromos_privados = read_excel(public_private[0], sheet_name=0, header=[0,1])\n",
    "\n",
    "aisweb = dir_files('AISWeb')\n",
    "aisweb =  read_csv(aisweb[0], sep=',', encoding='latin-1')\n",
    "\n",
    "aisweb.insert(loc=4, column=\"Categoria\",value='')\n",
    "icao_aeropublicos = aerodromos_publicos.iloc[:,0].values\n",
    "icao_aeroprivados = aerodromos_privados.iloc[:,0].values\n",
    "for i, icao in enumerate(aisweb.ICAO):\n",
    "    if icao in icao_aeropublicos:\n",
    "        aisweb.at[i, 'Categoria'] = 'Público'\n",
    "    elif icao in icao_aeroprivados:\n",
    "        aisweb.at[i, 'Categoria'] = 'Privado'"
   ]
  },
  {
   "cell_type": "code",
   "execution_count": 3,
   "metadata": {},
   "outputs": [
    {
     "data": {
      "text/plain": [
       "timestamp    2630\n",
       "ICAO         2630\n",
       "CIAD         2569\n",
       "Aeródromo    2568\n",
       "Categoria    2630\n",
       "Cidade       2568\n",
       "UF           2568\n",
       "Status       2630\n",
       "NOTAM        2630\n",
       "Debug        2630\n",
       "dtype: int64"
      ]
     },
     "execution_count": 3,
     "metadata": {},
     "output_type": "execute_result"
    }
   ],
   "source": [
    "aisweb.count()"
   ]
  },
  {
   "cell_type": "markdown",
   "metadata": {},
   "source": [
    "### Há valores nulos?"
   ]
  },
  {
   "cell_type": "code",
   "execution_count": 4,
   "metadata": {},
   "outputs": [
    {
     "data": {
      "text/plain": [
       "timestamp     0\n",
       "ICAO          0\n",
       "CIAD         61\n",
       "Aeródromo    62\n",
       "Categoria     0\n",
       "Cidade       62\n",
       "UF           62\n",
       "Status        0\n",
       "NOTAM         0\n",
       "Debug         0\n",
       "dtype: int64"
      ]
     },
     "execution_count": 4,
     "metadata": {},
     "output_type": "execute_result"
    }
   ],
   "source": [
    "aisweb.isnull().sum()"
   ]
  },
  {
   "cell_type": "markdown",
   "metadata": {},
   "source": [
    "### Aeródromos não encontrados (fechado, localidade cancelada, Localidade reservada aguardando portaria da ANAC)"
   ]
  },
  {
   "cell_type": "markdown",
   "metadata": {},
   "source": [
    "#### Aeródromos que constam na lista da ANAC, mas não foram encontrados no AISWeb"
   ]
  },
  {
   "cell_type": "code",
   "execution_count": 9,
   "metadata": {},
   "outputs": [
    {
     "name": "stdout",
     "output_type": "stream",
     "text": [
      "Total de aeródromos não encontrados: 3\n"
     ]
    }
   ],
   "source": [
    "aero_naoencontrado = aisweb[aisweb.Status == \"O aeródromo não foi encontrado\"]\n",
    "print(f\"Total de aeródromos não encontrados: {aero_naoencontrado.ICAO.count()}\")"
   ]
  },
  {
   "cell_type": "code",
   "execution_count": null,
   "metadata": {},
   "outputs": [],
   "source": [
    "aero_nao_encontrado"
   ]
  },
  {
   "cell_type": "markdown",
   "metadata": {},
   "source": [
    "#### Localidade cancelada"
   ]
  },
  {
   "cell_type": "code",
   "execution_count": 13,
   "metadata": {},
   "outputs": [
    {
     "name": "stdout",
     "output_type": "stream",
     "text": [
      "Total de aeródromos com Localidade cancelada: 3\n"
     ]
    }
   ],
   "source": [
    "aero_locanc = aisweb[aisweb.Status == \"Localidade cancelada\"]\n",
    "print(f\"Total de aeródromos com {filtro}: {aero_locanc.ICAO.count()}\")"
   ]
  },
  {
   "cell_type": "markdown",
   "metadata": {},
   "source": [
    "#### Aeródromos com localidade reservada aguardando portaria da ANAC"
   ]
  },
  {
   "cell_type": "code",
   "execution_count": 16,
   "metadata": {},
   "outputs": [
    {
     "name": "stdout",
     "output_type": "stream",
     "text": [
      "Total de aeródromos com Localidade cancelada: 54\n"
     ]
    }
   ],
   "source": [
    "aero_locres = aisweb[aisweb.Status == \"Localidade reservada. Aguardando portaria da ANAC.\"]\n",
    "print(f\"Total de aeródromos com {filtro}: {aero_locres.ICAO.count()}\")"
   ]
  },
  {
   "cell_type": "markdown",
   "metadata": {},
   "source": [
    "#### Aeródromos fechados até determinada data"
   ]
  },
  {
   "cell_type": "code",
   "execution_count": 30,
   "metadata": {},
   "outputs": [
    {
     "name": "stdout",
     "output_type": "stream",
     "text": [
      "Total de aeródromos fechados: 165\n"
     ]
    }
   ],
   "source": [
    "filtro = \"Aeródromo FECHADO até\"\n",
    "aero_fechado = aisweb[aisweb.Status.str.contains(filtro) == True]\n",
    "print(f\"Total de aeródromos fechados: {aero_fechado.ICAO.count()}\")"
   ]
  },
  {
   "cell_type": "markdown",
   "metadata": {},
   "source": [
    "#### Aeródromos com dados faltando (estudar a fundo, estes podem estar iniciando atividade)"
   ]
  },
  {
   "cell_type": "code",
   "execution_count": 22,
   "metadata": {},
   "outputs": [
    {
     "name": "stdout",
     "output_type": "stream",
     "text": [
      "Total de aeródromos com valores nulos: 62\n"
     ]
    }
   ],
   "source": [
    "aero_null = aisweb[aisweb.Cidade.isnull()]\n",
    "print(f\"Total de aeródromos com valores nulos: {aero_null.ICAO.count()}\")"
   ]
  },
  {
   "cell_type": "markdown",
   "metadata": {},
   "source": [
    "## NOTAM\n",
    "Aeródromos contendo a string \"AD CLSD DEVIDO NAO APRESENTACAO DO PLANO BASICO DE ZONA DE PROTECAO\""
   ]
  },
  {
   "cell_type": "code",
   "execution_count": 24,
   "metadata": {},
   "outputs": [
    {
     "name": "stdout",
     "output_type": "stream",
     "text": [
      "Total de aeródromos com \"AD CLSD DEVIDO NAO APRESENTACAO DO PLANO BASICO DE ZONA DE PROTECAO\": 193\n"
     ]
    }
   ],
   "source": [
    "filtro = \"AD CLSD DEVIDO NAO APRESENTACAO DO PLANO BASICO DE ZONA DE PROTECAO\"\n",
    "ad_clsd_pbzpa = aisweb[aisweb.NOTAM.str.contains(filtro)]\n",
    "print(f\"Total de aeródromos com \\\"AD CLSD DEVIDO NAO APRESENTACAO DO PLANO BASICO DE ZONA DE PROTECAO\\\": {ad_clsd_pbzpa.ICAO.count()}\")"
   ]
  },
  {
   "cell_type": "markdown",
   "metadata": {},
   "source": [
    "#### Fechados, aguardando INFRACEA | Novos Negócios agir!"
   ]
  },
  {
   "cell_type": "code",
   "execution_count": 34,
   "metadata": {},
   "outputs": [
    {
     "name": "stdout",
     "output_type": "stream",
     "text": [
      "Total de prospects para novos negócios: 147\n"
     ]
    }
   ],
   "source": [
    "filtro = \".*Revogado INFOTEMP [0-9]*/[0-9]*.{0,6}AD CLSD DEVIDO NAO APRESENTACAO DO PLANO BASICO DE ZONA DE PROTECAO.*\"\n",
    "oportunidades = ad_clsd_pbzpa[~ad_clsd_pbzpa.NOTAM.str.contains(filtro, regex=True)]\n",
    "print(f\"Total de prospects para novos negócios: {oportunidades.ICAO.count()}\")"
   ]
  },
  {
   "cell_type": "markdown",
   "metadata": {},
   "source": [
    "#### Revogado o fechamento"
   ]
  },
  {
   "cell_type": "code",
   "execution_count": 25,
   "metadata": {},
   "outputs": [
    {
     "name": "stdout",
     "output_type": "stream",
     "text": [
      "Total de aeródromos com \"AD CLSD\" revogado: 46\n"
     ]
    }
   ],
   "source": [
    "filtro = \".*Revogado INFOTEMP [0-9]*/[0-9]*.{0,6}AD CLSD DEVIDO NAO APRESENTACAO DO PLANO BASICO DE ZONA DE PROTECAO.*\"\n",
    "ad_clsd_pbzpa_rev = ad_clsd_pbzpa[ad_clsd_pbzpa.NOTAM.str.contains(filtro, regex=True)]\n",
    "print(f\"Total de aeródromos com \\\"AD CLSD\\\" revogado: {ad_clsd_pbzpa_rev.ICAO.count()}\")"
   ]
  },
  {
   "cell_type": "markdown",
   "metadata": {},
   "source": [
    "#### Revogado o fechamento, mas somente em missões de caráter emergencial\n",
    "ou seja, candidatos para INFRACEA | Novos Negócios com visibilidade social, será que tem prioridade para os governos, mas eles não tem dinheiro para pagar. Ação de doação de empresas com interesses nas regiões para operar o aeroporto?"
   ]
  },
  {
   "cell_type": "code",
   "execution_count": 26,
   "metadata": {},
   "outputs": [
    {
     "name": "stdout",
     "output_type": "stream",
     "text": [
      "Total de aeródromos com \"AD CLSD\" revogado em caráter emergencial: 22\n"
     ]
    }
   ],
   "source": [
    "filtro = \"CARATER EMERGENCIAL\"\n",
    "ad_clsd_pbzpa_rev_emg = ad_clsd_pbzpa_rev[ad_clsd_pbzpa_rev.NOTAM.str.contains(filtro)]\n",
    "print(f\"Total de aeródromos com \\\"AD CLSD\\\" revogado em caráter emergencial: {ad_clsd_pbzpa_rev_emg.ICAO.count()}\")"
   ]
  },
  {
   "cell_type": "markdown",
   "metadata": {},
   "source": [
    "#### Revogação do fechamento ratificada\n",
    "situação inferida: gestão fraca? Estão desesperados esperando a INFRACEA | Aeroportos?"
   ]
  },
  {
   "cell_type": "code",
   "execution_count": 37,
   "metadata": {},
   "outputs": [
    {
     "name": "stdout",
     "output_type": "stream",
     "text": [
      "Total de aeródromos com funcionamento turbulento: 32\n"
     ]
    }
   ],
   "source": [
    "ad_clsd_pbzpa_rev_ne = ad_clsd_pbzpa_rev[ad_clsd_pbzpa_rev.ICAO.isin(aero_fechado.ICAO)]\n",
    "print(f\"Total de aeródromos com funcionamento turbulento: {ad_clsd_pbzpa_rev_ne.ICAO.count()}\")"
   ]
  },
  {
   "cell_type": "markdown",
   "metadata": {},
   "source": [
    "##### Exportar para excel"
   ]
  },
  {
   "cell_type": "code",
   "execution_count": null,
   "metadata": {},
   "outputs": [],
   "source": [
    "#ad_clsd_pbzpa.to_excel('notam_ad_clsd_pbzpa.xlsx', index=False, na_rep='')"
   ]
  },
  {
   "cell_type": "code",
   "execution_count": null,
   "metadata": {},
   "outputs": [],
   "source": []
  }
 ],
 "metadata": {
  "kernelspec": {
   "display_name": "Python 3",
   "language": "python",
   "name": "python3"
  },
  "language_info": {
   "codemirror_mode": {
    "name": "ipython",
    "version": 3
   },
   "file_extension": ".py",
   "mimetype": "text/x-python",
   "name": "python",
   "nbconvert_exporter": "python",
   "pygments_lexer": "ipython3",
   "version": "3.7.3"
  }
 },
 "nbformat": 4,
 "nbformat_minor": 2
}
