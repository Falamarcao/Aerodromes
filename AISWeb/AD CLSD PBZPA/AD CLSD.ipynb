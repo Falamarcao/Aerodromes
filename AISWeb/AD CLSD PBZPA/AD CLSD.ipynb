{
 "cells": [
  {
   "cell_type": "markdown",
   "metadata": {},
   "source": [
    "# Estudo de oportunidades para PBZPA"
   ]
  },
  {
   "cell_type": "code",
   "execution_count": 1,
   "metadata": {},
   "outputs": [],
   "source": [
    "# helper function\n",
    "from os import listdir\n",
    "def dir_files(name: str, folder: str = None):\n",
    "    if folder:\n",
    "        files = [folder + e for e in listdir(folder) if (e[-4:] == \".xls\") or (e[-4:] == \".csv\")]\n",
    "    else:\n",
    "        files = [e for e in listdir() if (e[-4:] == \".xls\") or (e[-4:] == \".csv\")]\n",
    "    print(f\"{name}: {', '.join(files)}\")\n",
    "    return files"
   ]
  },
  {
   "cell_type": "code",
   "execution_count": 3,
   "metadata": {},
   "outputs": [
    {
     "name": "stdout",
     "output_type": "stream",
     "text": [
      "Aeródromos públicos e privados: E:/Users/falam/IdeaProjects/Aerodromos/ANAC/Beta/public_private/Aeródromos Privados_28MAR2019.xls, E:/Users/falam/IdeaProjects/Aerodromos/ANAC/Beta/public_private/Aeródromos Públicos_28MAR2019.xls\n",
      "\n",
      "\n",
      "AISWeb: output_aisweb_4428c205cd.csv\n"
     ]
    }
   ],
   "source": [
    "from pandas import read_excel\n",
    "from pandas import read_csv\n",
    "\n",
    "public_private = dir_files('Aeródromos públicos e privados', r'E:/Users/falam/IdeaProjects/Aerodromos/ANAC/Beta/public_private/')\n",
    "aerodromos_publicos =  read_excel(public_private[1], sheet_name=0, header=[1,2])\n",
    "aerodromos_privados = read_excel(public_private[0], sheet_name=0, header=[0,1])\n",
    "\n",
    "print('\\n')\n",
    "\n",
    "aisweb = dir_files('AISWeb')\n",
    "aisweb =  read_csv(aisweb[0], sep=',', encoding='latin-1')\n",
    "\n",
    "aisweb.insert(loc=4, column=\"Categoria\",value='')\n",
    "icao_aeropublicos = aerodromos_publicos.iloc[:,0].values\n",
    "icao_aeroprivados = aerodromos_privados.iloc[:,0].values\n",
    "for i, icao in enumerate(aisweb.ICAO):\n",
    "    if icao in icao_aeropublicos:\n",
    "        aisweb.at[i, 'Categoria'] = 'Público'\n",
    "    elif icao in icao_aeroprivados:\n",
    "        aisweb.at[i, 'Categoria'] = 'Privado'"
   ]
  },
  {
   "cell_type": "code",
   "execution_count": 4,
   "metadata": {},
   "outputs": [
    {
     "data": {
      "text/plain": [
       "timestamp    2630\n",
       "ICAO         2630\n",
       "CIAD         2569\n",
       "Aeródromo    2568\n",
       "Categoria    2630\n",
       "Cidade       2568\n",
       "UF           2568\n",
       "Status       2630\n",
       "NOTAM        2630\n",
       "Debug        2630\n",
       "dtype: int64"
      ]
     },
     "execution_count": 4,
     "metadata": {},
     "output_type": "execute_result"
    }
   ],
   "source": [
    "aisweb.count()"
   ]
  },
  {
   "cell_type": "markdown",
   "metadata": {},
   "source": [
    "### Há valores nulos?"
   ]
  },
  {
   "cell_type": "code",
   "execution_count": 5,
   "metadata": {},
   "outputs": [
    {
     "data": {
      "text/plain": [
       "timestamp     0\n",
       "ICAO          0\n",
       "CIAD         61\n",
       "Aeródromo    62\n",
       "Categoria     0\n",
       "Cidade       62\n",
       "UF           62\n",
       "Status        0\n",
       "NOTAM         0\n",
       "Debug         0\n",
       "dtype: int64"
      ]
     },
     "execution_count": 5,
     "metadata": {},
     "output_type": "execute_result"
    }
   ],
   "source": [
    "aisweb.isnull().sum()"
   ]
  },
  {
   "cell_type": "markdown",
   "metadata": {},
   "source": [
    "### Aeródromos não encontrados (fechado, localidade cancelada, Localidade reservada aguardando portaria da ANAC)"
   ]
  },
  {
   "cell_type": "markdown",
   "metadata": {},
   "source": [
    "#### Aeródromos que constam na lista da ANAC, mas não foram encontrados no AISWeb"
   ]
  },
  {
   "cell_type": "code",
   "execution_count": null,
   "metadata": {},
   "outputs": [],
   "source": [
    "aero_naoencontrado = aisweb[aisweb.Status == \"O aeródromo não foi encontrado\"]\n",
    "print(f\"Total de aeródromos com Status: {aero_naoencontrado.ICAO.count()}\")"
   ]
  },
  {
   "cell_type": "markdown",
   "metadata": {},
   "source": [
    "#### Localidade cancelada"
   ]
  },
  {
   "cell_type": "code",
   "execution_count": null,
   "metadata": {},
   "outputs": [],
   "source": [
    "aero_localizacao_cancelada = aisweb[aisweb.Status == \"Localidade cancelada\"]\n",
    "print(f\"Total de aeródromos ({aero_localizacao_cancelada.Status[:1].item()}): {aero_localizacao_cancelada.ICAO.count()}\")"
   ]
  },
  {
   "cell_type": "markdown",
   "metadata": {},
   "source": [
    "#### Aeródromos com localidade reservada aguardando portaria da ANAC"
   ]
  },
  {
   "cell_type": "code",
   "execution_count": null,
   "metadata": {},
   "outputs": [],
   "source": [
    "aero_localizacao_reservada = aisweb[aisweb.Status == \"Localidade reservada. Aguardando portaria da ANAC.\"]\n",
    "print(f\"Total de aeródromos ({aero_localizacao_reservada.Status[:1].item()}): {aero_localizacao_reservada.ICAO.count()}\")"
   ]
  },
  {
   "cell_type": "markdown",
   "metadata": {},
   "source": [
    "#### Aeródromos fechados até determinada data"
   ]
  },
  {
   "cell_type": "code",
   "execution_count": null,
   "metadata": {},
   "outputs": [],
   "source": [
    "filtro = \"Aeródromo FECHADO até\"\n",
    "aero_fechado = aisweb[aisweb.Status.str.contains(filtro) == True]\n",
    "print(f\"Total de aeródromos fechados: {aero_fechado.ICAO.count()}\")"
   ]
  },
  {
   "cell_type": "markdown",
   "metadata": {},
   "source": [
    "#### Aeródromos com dados faltando\n",
    "Estão iniciando atividade? ICAO consta no AISWeb, não foi exibida nenhuma mensagem de Status."
   ]
  },
  {
   "cell_type": "code",
   "execution_count": null,
   "metadata": {},
   "outputs": [],
   "source": [
    "aero_null = aisweb[aisweb.Cidade.isnull()]\n",
    "print(f\"Total de aeródromos com valores nulos: {aero_null.ICAO.count()}\")"
   ]
  },
  {
   "cell_type": "code",
   "execution_count": null,
   "metadata": {},
   "outputs": [],
   "source": [
    "aero_null.isnull().sum()"
   ]
  },
  {
   "cell_type": "code",
   "execution_count": null,
   "metadata": {},
   "outputs": [],
   "source": [
    "aero_null.head()"
   ]
  },
  {
   "cell_type": "markdown",
   "metadata": {},
   "source": [
    "## NOTAM"
   ]
  },
  {
   "cell_type": "markdown",
   "metadata": {},
   "source": [
    "#### Aeródromos contendo a string \"AD CLSD DEVIDO NAO APRESENTACAO DO PLANO BASICO DE ZONA DE PROTECAO\""
   ]
  },
  {
   "cell_type": "code",
   "execution_count": 6,
   "metadata": {},
   "outputs": [
    {
     "name": "stdout",
     "output_type": "stream",
     "text": [
      "Total de aeródromos com \"AD CLSD DEVIDO NAO APRESENTACAO DO PLANO BASICO DE ZONA DE PROTECAO\": 193\n"
     ]
    }
   ],
   "source": [
    "filtro = \"AD CLSD DEVIDO NAO APRESENTACAO DO PLANO BASICO DE ZONA DE PROTECAO\"\n",
    "ad_clsd_pbzpa = aisweb[aisweb.NOTAM.str.contains(filtro)]\n",
    "print(f\"Total de aeródromos com \\\"AD CLSD DEVIDO NAO APRESENTACAO DO PLANO BASICO DE ZONA DE PROTECAO\\\": {ad_clsd_pbzpa.ICAO.count()}\")"
   ]
  },
  {
   "cell_type": "code",
   "execution_count": 7,
   "metadata": {},
   "outputs": [
    {
     "data": {
      "text/html": [
       "<div>\n",
       "<style scoped>\n",
       "    .dataframe tbody tr th:only-of-type {\n",
       "        vertical-align: middle;\n",
       "    }\n",
       "\n",
       "    .dataframe tbody tr th {\n",
       "        vertical-align: top;\n",
       "    }\n",
       "\n",
       "    .dataframe thead th {\n",
       "        text-align: right;\n",
       "    }\n",
       "</style>\n",
       "<table border=\"1\" class=\"dataframe\">\n",
       "  <thead>\n",
       "    <tr style=\"text-align: right;\">\n",
       "      <th></th>\n",
       "      <th>timestamp</th>\n",
       "      <th>ICAO</th>\n",
       "      <th>CIAD</th>\n",
       "      <th>Aeródromo</th>\n",
       "      <th>Categoria</th>\n",
       "      <th>Cidade</th>\n",
       "      <th>UF</th>\n",
       "      <th>Status</th>\n",
       "      <th>NOTAM</th>\n",
       "      <th>Debug</th>\n",
       "    </tr>\n",
       "  </thead>\n",
       "  <tbody>\n",
       "    <tr>\n",
       "      <th>23</th>\n",
       "      <td>2019-04-18T04:10:27.345320-03:00</td>\n",
       "      <td>SDIO</td>\n",
       "      <td>SP0109</td>\n",
       "      <td>Aeroclube de Itápolis</td>\n",
       "      <td>Privado</td>\n",
       "      <td>ITÁPOLIS</td>\n",
       "      <td>SP</td>\n",
       "      <td>OK</td>\n",
       "      <td>['Revogado INFOTEMP 1090/2018 \\n AD CLSD DEVID...</td>\n",
       "      <td>{'response_status_code': 200}</td>\n",
       "    </tr>\n",
       "    <tr>\n",
       "      <th>54</th>\n",
       "      <td>2019-04-18T04:12:50.386320-03:00</td>\n",
       "      <td>SIVD</td>\n",
       "      <td>MS0134</td>\n",
       "      <td>Agropecuária Santa Rita</td>\n",
       "      <td>Privado</td>\n",
       "      <td>RIO VERDE DE MATO GROSSO</td>\n",
       "      <td>MS</td>\n",
       "      <td>Aeródromo FECHADO até 30/06/19: INFOTEMP 1486/...</td>\n",
       "      <td>['INFOTEMP 1486/2018 \\n AD CLSD DEVIDO NAO APR...</td>\n",
       "      <td>{'response_status_code': 200}</td>\n",
       "    </tr>\n",
       "    <tr>\n",
       "      <th>61</th>\n",
       "      <td>2019-04-18T04:09:14.462284-03:00</td>\n",
       "      <td>SJYE</td>\n",
       "      <td>RR0089</td>\n",
       "      <td>Água Fria</td>\n",
       "      <td>Privado</td>\n",
       "      <td>UIRAMUTÃ</td>\n",
       "      <td>RR</td>\n",
       "      <td>Aeródromo FECHADO até 31/12/20: INFOTEMP 1284/...</td>\n",
       "      <td>['INFOTEMP 1284/2018 \\n  AD CLSD DEVIDO NAO AP...</td>\n",
       "      <td>{'response_status_code': 200}</td>\n",
       "    </tr>\n",
       "    <tr>\n",
       "      <th>63</th>\n",
       "      <td>2019-04-18T04:09:23.784286-03:00</td>\n",
       "      <td>SJQL</td>\n",
       "      <td>MG0130</td>\n",
       "      <td>Águas Claras Aviação Agrícola</td>\n",
       "      <td>Privado</td>\n",
       "      <td>SANTA JULIANA</td>\n",
       "      <td>MG</td>\n",
       "      <td>OK</td>\n",
       "      <td>['INFOTEMP 0199/2019 \\n CIRCUITO DE TFC PARA A...</td>\n",
       "      <td>{'response_status_code': 200}</td>\n",
       "    </tr>\n",
       "    <tr>\n",
       "      <th>65</th>\n",
       "      <td>2019-04-18T04:09:31.812286-03:00</td>\n",
       "      <td>SJYF</td>\n",
       "      <td>RR0090</td>\n",
       "      <td>Ajarani</td>\n",
       "      <td>Privado</td>\n",
       "      <td>CARACARAÍ</td>\n",
       "      <td>RR</td>\n",
       "      <td>Aeródromo FECHADO até 31/12/20: INFOTEMP 1213/...</td>\n",
       "      <td>['INFOTEMP 1213/2018 \\n  AD CLSD DEVIDO NAO AP...</td>\n",
       "      <td>{'response_status_code': 200}</td>\n",
       "    </tr>\n",
       "  </tbody>\n",
       "</table>\n",
       "</div>"
      ],
      "text/plain": [
       "                           timestamp  ICAO    CIAD  \\\n",
       "23  2019-04-18T04:10:27.345320-03:00  SDIO  SP0109   \n",
       "54  2019-04-18T04:12:50.386320-03:00  SIVD  MS0134   \n",
       "61  2019-04-18T04:09:14.462284-03:00  SJYE  RR0089   \n",
       "63  2019-04-18T04:09:23.784286-03:00  SJQL  MG0130   \n",
       "65  2019-04-18T04:09:31.812286-03:00  SJYF  RR0090   \n",
       "\n",
       "                         Aeródromo Categoria                    Cidade  UF  \\\n",
       "23           Aeroclube de Itápolis   Privado                  ITÁPOLIS  SP   \n",
       "54         Agropecuária Santa Rita   Privado  RIO VERDE DE MATO GROSSO  MS   \n",
       "61                       Água Fria   Privado                  UIRAMUTÃ  RR   \n",
       "63  Águas Claras Aviação Agrícola    Privado             SANTA JULIANA  MG   \n",
       "65                         Ajarani   Privado                 CARACARAÍ  RR   \n",
       "\n",
       "                                               Status  \\\n",
       "23                                                 OK   \n",
       "54  Aeródromo FECHADO até 30/06/19: INFOTEMP 1486/...   \n",
       "61  Aeródromo FECHADO até 31/12/20: INFOTEMP 1284/...   \n",
       "63                                                 OK   \n",
       "65  Aeródromo FECHADO até 31/12/20: INFOTEMP 1213/...   \n",
       "\n",
       "                                                NOTAM  \\\n",
       "23  ['Revogado INFOTEMP 1090/2018 \\n AD CLSD DEVID...   \n",
       "54  ['INFOTEMP 1486/2018 \\n AD CLSD DEVIDO NAO APR...   \n",
       "61  ['INFOTEMP 1284/2018 \\n  AD CLSD DEVIDO NAO AP...   \n",
       "63  ['INFOTEMP 0199/2019 \\n CIRCUITO DE TFC PARA A...   \n",
       "65  ['INFOTEMP 1213/2018 \\n  AD CLSD DEVIDO NAO AP...   \n",
       "\n",
       "                            Debug  \n",
       "23  {'response_status_code': 200}  \n",
       "54  {'response_status_code': 200}  \n",
       "61  {'response_status_code': 200}  \n",
       "63  {'response_status_code': 200}  \n",
       "65  {'response_status_code': 200}  "
      ]
     },
     "execution_count": 7,
     "metadata": {},
     "output_type": "execute_result"
    }
   ],
   "source": [
    "ad_clsd_pbzpa.head()"
   ]
  },
  {
   "cell_type": "markdown",
   "metadata": {},
   "source": [
    "#### Com fechamento não revogado ou está agendado para fechamento"
   ]
  },
  {
   "cell_type": "code",
   "execution_count": null,
   "metadata": {},
   "outputs": [],
   "source": [
    "filtro = \".*Revogado INFOTEMP [0-9]*/[0-9]*.{0,6}AD CLSD DEVIDO NAO APRESENTACAO DO PLANO BASICO DE ZONA DE PROTECAO.*\"\n",
    "oportunidades = ad_clsd_pbzpa[~ad_clsd_pbzpa.NOTAM.str.contains(filtro, regex=True) & ad_clsd_pbzpa.Status.str.contains('Aeródromo FECHADO')]\n",
    "print(f\"Total de prospects para novos negócios: {oportunidades.ICAO.count()}\")"
   ]
  },
  {
   "cell_type": "markdown",
   "metadata": {},
   "source": [
    "#### Revogado o fechamento"
   ]
  },
  {
   "cell_type": "code",
   "execution_count": null,
   "metadata": {},
   "outputs": [],
   "source": [
    "filtro = \".*Revogado INFOTEMP [0-9]*/[0-9]*.{0,6}AD CLSD DEVIDO NAO APRESENTACAO DO PLANO BASICO DE ZONA DE PROTECAO.*\"\n",
    "ad_clsd_pbzpa_rev = ad_clsd_pbzpa[ad_clsd_pbzpa.NOTAM.str.contains(filtro, regex=True)]\n",
    "print(f\"Total de aeródromos com \\\"AD CLSD\\\" revogado: {ad_clsd_pbzpa_rev.ICAO.count()}\")"
   ]
  },
  {
   "cell_type": "markdown",
   "metadata": {},
   "source": [
    "#### Com fechamento revogado, mas somente em missões de caráter emergencial\n",
    "ou seja, candidatos para INFRACEA | Social. Da retorno de mídia. Será que há empresas com interesse na facilitação de acesso à região? Será há benefício fiscal para empresas que financiarem o produto PBZPA da INFRACEA nestas regiões?"
   ]
  },
  {
   "cell_type": "code",
   "execution_count": null,
   "metadata": {},
   "outputs": [],
   "source": [
    "filtro = \"CARATER EMERGENCIAL\"\n",
    "ad_clsd_pbzpa_rev_emg = ad_clsd_pbzpa_rev[ad_clsd_pbzpa_rev.NOTAM.str.contains(filtro)]\n",
    "print(f\"Total de aeródromos com \\\"AD CLSD\\\" revogado em caráter emergencial: {ad_clsd_pbzpa_rev_emg.ICAO.count()}\")"
   ]
  },
  {
   "cell_type": "markdown",
   "metadata": {},
   "source": [
    "#### Revogação do fechamento ratificada\n",
    "situação inferida: gestão fraca? Estão desesperados esperando a INFRACEA | Aeroportos?"
   ]
  },
  {
   "cell_type": "code",
   "execution_count": null,
   "metadata": {},
   "outputs": [],
   "source": [
    "ad_clsd_pbzpa_rev_ratif = ad_clsd_pbzpa_rev[ad_clsd_pbzpa_rev.ICAO.isin(aero_fechado.ICAO)]\n",
    "print(f\"Total de aeródromos com funcionamento turbulento: {ad_clsd_pbzpa_rev_ratif.ICAO.count()}\")"
   ]
  },
  {
   "cell_type": "markdown",
   "metadata": {},
   "source": [
    "##### Exportar para excel"
   ]
  },
  {
   "cell_type": "code",
   "execution_count": null,
   "metadata": {},
   "outputs": [],
   "source": [
    "#ad_clsd_pbzpa.to_excel('notam_ad_clsd_pbzpa.xlsx', index=False, na_rep='')"
   ]
  },
  {
   "cell_type": "code",
   "execution_count": null,
   "metadata": {},
   "outputs": [],
   "source": []
  }
 ],
 "metadata": {
  "kernelspec": {
   "display_name": "Python 3",
   "language": "python",
   "name": "python3"
  },
  "language_info": {
   "codemirror_mode": {
    "name": "ipython",
    "version": 3
   },
   "file_extension": ".py",
   "mimetype": "text/x-python",
   "name": "python",
   "nbconvert_exporter": "python",
   "pygments_lexer": "ipython3",
   "version": "3.7.3"
  }
 },
 "nbformat": 4,
 "nbformat_minor": 2
}
