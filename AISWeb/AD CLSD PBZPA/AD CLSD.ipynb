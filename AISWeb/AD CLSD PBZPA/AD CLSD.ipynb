{
 "cells": [
  {
   "cell_type": "code",
   "execution_count": 113,
   "metadata": {},
   "outputs": [
    {
     "data": {
      "text/plain": [
       "[[],\n",
       " ['Revogado', 'INFOTEMP 0916/2018'],\n",
       " ['COMPULSORIO CTC COM A RDO SINOP PARA ACFT OPR NA FIZ SINOP '],\n",
       " ['Duração:',\n",
       "  '04/10/18 00:00 a 31/12/19 23:59 UTC',\n",
       "  ' Divulgação: ',\n",
       "  '01/10/2018 13:55'],\n",
       " []]"
      ]
     },
     "execution_count": 113,
     "metadata": {},
     "output_type": "execute_result"
    }
   ],
   "source": [
    "r = [[[''], ['', '', '', 'Revogado', 'INFOTEMP 0916/2018', '', ''], ['', 'COMPULSORIO CTC COM A RDO SINOP PARA ACFT OPR NA FIZ SINOP ', '', '', ''], ['', '', 'Duração:', ' ', '04/10/18 00:00 a 31/12/19 23:59 UTC', ' ', ' Divulgação: ', '01/10/2018 13:55', '', ''], ['', '']], [[''], ['', '', '', 'Revogado', 'INFOTEMP 0890/2018', '', ''], ['', 'ACFT EM OPS DE POUSO E DECOLAGEM DEVERAO EFETUAR CTC COM A RDO SINOP NA FREQ 130.175MHZ ', '', '', ''], ['', '', 'Duração:', ' ', '27/09/18 18:05 a 31/12/19 23:59 UTC', ' ', ' Divulgação: ', '27/09/2018 20:19', '', ''], ['', '']]]\n",
    "\n",
    "[list(filter(str.strip, value)) for value in r[0]]"
   ]
  },
  {
   "cell_type": "code",
   "execution_count": null,
   "metadata": {},
   "outputs": [],
   "source": []
  },
  {
   "cell_type": "markdown",
   "metadata": {},
   "source": [
    "# Estudo de oportunidades para PBZPA"
   ]
  },
  {
   "cell_type": "code",
   "execution_count": 1,
   "metadata": {},
   "outputs": [],
   "source": [
    "# helper function\n",
    "from os import listdir\n",
    "def dir_files(name: str, folder: str = None):\n",
    "    if folder:\n",
    "        files = [folder + e for e in listdir(folder) if (e[-4:] == \".xls\") or (e[-4:] == \".csv\")]\n",
    "    else:\n",
    "        files = [e for e in listdir() if (e[-4:] == \".xls\") or (e[-4:] == \".csv\")]\n",
    "    print(f\"{name}: {', '.join(files)}\")\n",
    "    return files"
   ]
  },
  {
   "cell_type": "code",
   "execution_count": 4,
   "metadata": {},
   "outputs": [
    {
     "name": "stdout",
     "output_type": "stream",
     "text": [
      "Aeródromos públicos e privados: E:/Users/falam/IdeaProjects/Aerodromos/ANAC/Beta/public_private/Aeródromos Privados_28MAR2019.xls, E:/Users/falam/IdeaProjects/Aerodromos/ANAC/Beta/public_private/Aeródromos Públicos_28MAR2019.xls\n",
      "\n",
      "\n",
      "AISWeb: output_aisweb_4428c205cd.csv\n"
     ]
    }
   ],
   "source": [
    "from pandas import read_excel\n",
    "from pandas import read_csv\n",
    "\n",
    "public_private = dir_files('Aeródromos públicos e privados', r'E:/Users/falam/IdeaProjects/Aerodromos/ANAC/Beta/public_private/')\n",
    "aerodromos_publicos =  read_excel(public_private[1], sheet_name=0, header=[1,2])\n",
    "aerodromos_privados = read_excel(public_private[0], sheet_name=0, header=[0,1])\n",
    "\n",
    "print('\\n')\n",
    "\n",
    "aisweb = dir_files('AISWeb')\n",
    "aisweb =  read_csv(aisweb[0], sep=',', encoding='latin-1')\n",
    "\n",
    "aisweb.insert(loc=4, column=\"Categoria\",value='')\n",
    "icao_aeropublicos = aerodromos_publicos.iloc[:,0].values\n",
    "icao_aeroprivados = aerodromos_privados.iloc[:,0].values\n",
    "for i, icao in enumerate(aisweb.ICAO):\n",
    "    if icao in icao_aeropublicos:\n",
    "        aisweb.at[i, 'Categoria'] = 'Público'\n",
    "    elif icao in icao_aeroprivados:\n",
    "        aisweb.at[i, 'Categoria'] = 'Privado'\n",
    "\n",
    "\n",
    "    value[]\n",
    "    aisweb.at[i, 'NOTAM'] = value"
   ]
  },
  {
   "cell_type": "code",
   "execution_count": 30,
   "metadata": {},
   "outputs": [
    {
     "data": {
      "text/html": [
       "<div>\n",
       "<style scoped>\n",
       "    .dataframe tbody tr th:only-of-type {\n",
       "        vertical-align: middle;\n",
       "    }\n",
       "\n",
       "    .dataframe tbody tr th {\n",
       "        vertical-align: top;\n",
       "    }\n",
       "\n",
       "    .dataframe thead th {\n",
       "        text-align: right;\n",
       "    }\n",
       "</style>\n",
       "<table border=\"1\" class=\"dataframe\">\n",
       "  <thead>\n",
       "    <tr style=\"text-align: right;\">\n",
       "      <th></th>\n",
       "      <th>timestamp</th>\n",
       "      <th>ICAO</th>\n",
       "      <th>CIAD</th>\n",
       "      <th>Aeródromo</th>\n",
       "      <th>Categoria</th>\n",
       "      <th>Cidade</th>\n",
       "      <th>UF</th>\n",
       "      <th>Status</th>\n",
       "      <th>NOTAM</th>\n",
       "      <th>Debug</th>\n",
       "    </tr>\n",
       "  </thead>\n",
       "  <tbody>\n",
       "    <tr>\n",
       "      <th>200</th>\n",
       "      <td>2019-04-18T04:11:25.486319-03:00</td>\n",
       "      <td>SNXY</td>\n",
       "      <td>PA0113</td>\n",
       "      <td>Cikel Brasil Verde</td>\n",
       "      <td>Privado</td>\n",
       "      <td>PORTEL</td>\n",
       "      <td>PA</td>\n",
       "      <td>OK</td>\n",
       "      <td>[[[]]]</td>\n",
       "      <td>{'response_status_code': 200}</td>\n",
       "    </tr>\n",
       "    <tr>\n",
       "      <th>201</th>\n",
       "      <td>2019-04-18T04:11:29.600286-03:00</td>\n",
       "      <td>SIVJ</td>\n",
       "      <td>MG0112</td>\n",
       "      <td>Cirrus Sociedade Aerodesportiva</td>\n",
       "      <td>Privado</td>\n",
       "      <td>JABOTICATUBAS</td>\n",
       "      <td>MG</td>\n",
       "      <td>OK</td>\n",
       "      <td>[[[]]]</td>\n",
       "      <td>{'response_status_code': 200}</td>\n",
       "    </tr>\n",
       "    <tr>\n",
       "      <th>202</th>\n",
       "      <td>2019-04-18T04:11:34.210320-03:00</td>\n",
       "      <td>SJAC</td>\n",
       "      <td>PA0065</td>\n",
       "      <td>Citropar</td>\n",
       "      <td>Privado</td>\n",
       "      <td>CAPITÃO POÇO</td>\n",
       "      <td>PA</td>\n",
       "      <td>OK</td>\n",
       "      <td>[[[]]]</td>\n",
       "      <td>{'response_status_code': 200}</td>\n",
       "    </tr>\n",
       "    <tr>\n",
       "      <th>203</th>\n",
       "      <td>2019-04-18T04:11:38.808320-03:00</td>\n",
       "      <td>SJEH</td>\n",
       "      <td>SP0206</td>\n",
       "      <td>Clemente Verillo</td>\n",
       "      <td>Privado</td>\n",
       "      <td>RIBEIRÃO BONITO</td>\n",
       "      <td>SP</td>\n",
       "      <td>OK</td>\n",
       "      <td>[[[]]]</td>\n",
       "      <td>{'response_status_code': 200}</td>\n",
       "    </tr>\n",
       "    <tr>\n",
       "      <th>204</th>\n",
       "      <td>2019-04-18T04:11:43.656322-03:00</td>\n",
       "      <td>SIVG</td>\n",
       "      <td>MT0141</td>\n",
       "      <td>Clube Aerodesportivo Selva</td>\n",
       "      <td>Privado</td>\n",
       "      <td>SINOP</td>\n",
       "      <td>MT</td>\n",
       "      <td>OK</td>\n",
       "      <td>[[['Revogado INFOTEMP 0916/2018], [COMPULSORIO...</td>\n",
       "      <td>{'response_status_code': 200}</td>\n",
       "    </tr>\n",
       "    <tr>\n",
       "      <th>205</th>\n",
       "      <td>2019-04-18T04:11:48.384320-03:00</td>\n",
       "      <td>SIAN</td>\n",
       "      <td>RJ0020</td>\n",
       "      <td>Clube CEU</td>\n",
       "      <td>Privado</td>\n",
       "      <td>RIO DE JANEIRO</td>\n",
       "      <td>RJ</td>\n",
       "      <td>OK</td>\n",
       "      <td>[[['D0489/19 R D0488/19 10/04/2019 18:17], [PJ...</td>\n",
       "      <td>{'response_status_code': 200}</td>\n",
       "    </tr>\n",
       "    <tr>\n",
       "      <th>206</th>\n",
       "      <td>2019-04-18T04:11:52.344359-03:00</td>\n",
       "      <td>SWON</td>\n",
       "      <td>SC0041</td>\n",
       "      <td>Clube de Aviação Céu Azul</td>\n",
       "      <td>Privado</td>\n",
       "      <td>ARAQUARI</td>\n",
       "      <td>SC</td>\n",
       "      <td>OK</td>\n",
       "      <td>[[[]]]</td>\n",
       "      <td>{'response_status_code': 200}</td>\n",
       "    </tr>\n",
       "    <tr>\n",
       "      <th>207</th>\n",
       "      <td>2019-04-18T04:11:56.781324-03:00</td>\n",
       "      <td>SJXA</td>\n",
       "      <td>MG0137</td>\n",
       "      <td>Clube de Aviação de Itaúna</td>\n",
       "      <td>Privado</td>\n",
       "      <td>ITAÚNA</td>\n",
       "      <td>MG</td>\n",
       "      <td>OK</td>\n",
       "      <td>[[['Revogado INFOTEMP 0862/2018], [AD INSERIR ...</td>\n",
       "      <td>{'response_status_code': 200}</td>\n",
       "    </tr>\n",
       "    <tr>\n",
       "      <th>208</th>\n",
       "      <td>2019-04-18T04:12:00.929359-03:00</td>\n",
       "      <td>SWES</td>\n",
       "      <td>PR0095</td>\n",
       "      <td>Clube de Aviação Experimental do Paraná</td>\n",
       "      <td>Privado</td>\n",
       "      <td>IBIPORÃ</td>\n",
       "      <td>PR</td>\n",
       "      <td>OK</td>\n",
       "      <td>[[[]]]</td>\n",
       "      <td>{'response_status_code': 200}</td>\n",
       "    </tr>\n",
       "    <tr>\n",
       "      <th>209</th>\n",
       "      <td>2019-04-18T04:12:05.173323-03:00</td>\n",
       "      <td>SWEQ</td>\n",
       "      <td>PA0139</td>\n",
       "      <td>Clube de Esportes Aéreos e Náuticos do Pará</td>\n",
       "      <td>Privado</td>\n",
       "      <td>BELÉM</td>\n",
       "      <td>PA</td>\n",
       "      <td>OK</td>\n",
       "      <td>[[[]]]</td>\n",
       "      <td>{'response_status_code': 200}</td>\n",
       "    </tr>\n",
       "  </tbody>\n",
       "</table>\n",
       "</div>"
      ],
      "text/plain": [
       "                            timestamp  ICAO    CIAD  \\\n",
       "200  2019-04-18T04:11:25.486319-03:00  SNXY  PA0113   \n",
       "201  2019-04-18T04:11:29.600286-03:00  SIVJ  MG0112   \n",
       "202  2019-04-18T04:11:34.210320-03:00  SJAC  PA0065   \n",
       "203  2019-04-18T04:11:38.808320-03:00  SJEH  SP0206   \n",
       "204  2019-04-18T04:11:43.656322-03:00  SIVG  MT0141   \n",
       "205  2019-04-18T04:11:48.384320-03:00  SIAN  RJ0020   \n",
       "206  2019-04-18T04:11:52.344359-03:00  SWON  SC0041   \n",
       "207  2019-04-18T04:11:56.781324-03:00  SJXA  MG0137   \n",
       "208  2019-04-18T04:12:00.929359-03:00  SWES  PR0095   \n",
       "209  2019-04-18T04:12:05.173323-03:00  SWEQ  PA0139   \n",
       "\n",
       "                                       Aeródromo Categoria           Cidade  \\\n",
       "200                           Cikel Brasil Verde   Privado           PORTEL   \n",
       "201              Cirrus Sociedade Aerodesportiva   Privado    JABOTICATUBAS   \n",
       "202                                     Citropar   Privado     CAPITÃO POÇO   \n",
       "203                             Clemente Verillo   Privado  RIBEIRÃO BONITO   \n",
       "204                   Clube Aerodesportivo Selva   Privado            SINOP   \n",
       "205                                    Clube CEU   Privado   RIO DE JANEIRO   \n",
       "206                    Clube de Aviação Céu Azul   Privado         ARAQUARI   \n",
       "207                  Clube de Aviação de Itaúna    Privado           ITAÚNA   \n",
       "208      Clube de Aviação Experimental do Paraná   Privado          IBIPORÃ   \n",
       "209  Clube de Esportes Aéreos e Náuticos do Pará   Privado            BELÉM   \n",
       "\n",
       "     UF Status                                              NOTAM  \\\n",
       "200  PA     OK                                             [[[]]]   \n",
       "201  MG     OK                                             [[[]]]   \n",
       "202  PA     OK                                             [[[]]]   \n",
       "203  SP     OK                                             [[[]]]   \n",
       "204  MT     OK  [[['Revogado INFOTEMP 0916/2018], [COMPULSORIO...   \n",
       "205  RJ     OK  [[['D0489/19 R D0488/19 10/04/2019 18:17], [PJ...   \n",
       "206  SC     OK                                             [[[]]]   \n",
       "207  MG     OK  [[['Revogado INFOTEMP 0862/2018], [AD INSERIR ...   \n",
       "208  PR     OK                                             [[[]]]   \n",
       "209  PA     OK                                             [[[]]]   \n",
       "\n",
       "                             Debug  \n",
       "200  {'response_status_code': 200}  \n",
       "201  {'response_status_code': 200}  \n",
       "202  {'response_status_code': 200}  \n",
       "203  {'response_status_code': 200}  \n",
       "204  {'response_status_code': 200}  \n",
       "205  {'response_status_code': 200}  \n",
       "206  {'response_status_code': 200}  \n",
       "207  {'response_status_code': 200}  \n",
       "208  {'response_status_code': 200}  \n",
       "209  {'response_status_code': 200}  "
      ]
     },
     "execution_count": 30,
     "metadata": {},
     "output_type": "execute_result"
    }
   ],
   "source": [
    "aisweb[200:210]"
   ]
  },
  {
   "cell_type": "code",
   "execution_count": 27,
   "metadata": {},
   "outputs": [
    {
     "data": {
      "text/plain": [
       "[[\"['INFOTEMP 1492/2018\"],\n",
       " ['AD CLSD DEVIDO NAO APRESENTACAO DO PLANO BASICO DE ZONA DE PROTECAO RMK: EXC ACFT OPS EM CARATER EMERGENCIAL E PRECARIO, SEMPRE NO INTERESSE DO ATENDIMENTO DOS POVOS INDIGENAS E APENAS POR ENTES A BEM DOS INTERESSES DO SERVICO PUBLICO'],\n",
       " ['Duração: 14/12/18 12:08 a 31/12/20 23:59 UTC',\n",
       "  \"Divulgação: 14/12/2018 12:41', 'Revogado INFOTEMP 1186/2018\"],\n",
       " ['AD CLSD DEVIDO NAO APRESENTACAO DO PLANO BASICO DE ZONA DE PROTECAO RMK: EXC ACFT DESTINADAS APOIAR A SECRETARIA ESPECIAL DE SAUDE INDIGENA E CASO O AD ESTEJA LOCALIZADO NA AREA RESTRITA SBR 701 (FRONTEIRA), A ACFT ENVOLVIDA NA MISSAO DEVERA POSSUIR OBRIGATORIAMENTE UMA AVOAR VALIDA EMITIDA PELO EXMO SR COMANDANTE DA ALA 8'],\n",
       " ['Duração: 09/11/18 18:39 a 31/12/20 23:59 UTC ',\n",
       "  \" Divulgação: 09/11/2018 18:39']\"]]"
      ]
     },
     "execution_count": 27,
     "metadata": {},
     "output_type": "execute_result"
    }
   ],
   "source": [
    "aisweb.NOTAM.iloc[100]"
   ]
  },
  {
   "cell_type": "code",
   "execution_count": 5,
   "metadata": {},
   "outputs": [
    {
     "data": {
      "text/plain": [
       "timestamp    2630\n",
       "ICAO         2630\n",
       "CIAD         2569\n",
       "Aeródromo    2568\n",
       "Categoria    2630\n",
       "Cidade       2568\n",
       "UF           2568\n",
       "Status       2630\n",
       "NOTAM        2630\n",
       "Debug        2630\n",
       "dtype: int64"
      ]
     },
     "execution_count": 5,
     "metadata": {},
     "output_type": "execute_result"
    }
   ],
   "source": [
    "aisweb.count()"
   ]
  },
  {
   "cell_type": "markdown",
   "metadata": {},
   "source": [
    "### Há valores nulos?"
   ]
  },
  {
   "cell_type": "code",
   "execution_count": 6,
   "metadata": {},
   "outputs": [
    {
     "data": {
      "text/plain": [
       "timestamp     0\n",
       "ICAO          0\n",
       "CIAD         61\n",
       "Aeródromo    62\n",
       "Categoria     0\n",
       "Cidade       62\n",
       "UF           62\n",
       "Status        0\n",
       "NOTAM         0\n",
       "Debug         0\n",
       "dtype: int64"
      ]
     },
     "execution_count": 6,
     "metadata": {},
     "output_type": "execute_result"
    }
   ],
   "source": [
    "aisweb.isnull().sum()"
   ]
  },
  {
   "cell_type": "markdown",
   "metadata": {},
   "source": [
    "### Aeródromos não encontrados (fechado, localidade cancelada, Localidade reservada aguardando portaria da ANAC)"
   ]
  },
  {
   "cell_type": "markdown",
   "metadata": {},
   "source": [
    "#### Aeródromos que constam na lista da ANAC, mas não foram encontrados no AISWeb"
   ]
  },
  {
   "cell_type": "code",
   "execution_count": 8,
   "metadata": {},
   "outputs": [
    {
     "name": "stdout",
     "output_type": "stream",
     "text": [
      "Total de aeródromos com Status: 3\n"
     ]
    }
   ],
   "source": [
    "aero_naoencontrado = aisweb[aisweb.Status == \"O aeródromo não foi encontrado\"]\n",
    "print(f\"Total de aeródromos com Status: {aero_naoencontrado.ICAO.count()}\")"
   ]
  },
  {
   "cell_type": "markdown",
   "metadata": {},
   "source": [
    "#### Localidade cancelada"
   ]
  },
  {
   "cell_type": "code",
   "execution_count": 9,
   "metadata": {},
   "outputs": [
    {
     "name": "stdout",
     "output_type": "stream",
     "text": [
      "Total de aeródromos (Localidade cancelada): 3\n"
     ]
    }
   ],
   "source": [
    "aero_localizacao_cancelada = aisweb[aisweb.Status == \"Localidade cancelada\"]\n",
    "print(f\"Total de aeródromos ({aero_localizacao_cancelada.Status[:1].item()}): {aero_localizacao_cancelada.ICAO.count()}\")"
   ]
  },
  {
   "cell_type": "markdown",
   "metadata": {},
   "source": [
    "#### Aeródromos com localidade reservada aguardando portaria da ANAC"
   ]
  },
  {
   "cell_type": "code",
   "execution_count": 10,
   "metadata": {},
   "outputs": [
    {
     "name": "stdout",
     "output_type": "stream",
     "text": [
      "Total de aeródromos (Localidade reservada. Aguardando portaria da ANAC.): 54\n"
     ]
    }
   ],
   "source": [
    "aero_localizacao_reservada = aisweb[aisweb.Status == \"Localidade reservada. Aguardando portaria da ANAC.\"]\n",
    "print(f\"Total de aeródromos ({aero_localizacao_reservada.Status[:1].item()}): {aero_localizacao_reservada.ICAO.count()}\")"
   ]
  },
  {
   "cell_type": "markdown",
   "metadata": {},
   "source": [
    "#### Aeródromos fechados até determinada data"
   ]
  },
  {
   "cell_type": "code",
   "execution_count": 11,
   "metadata": {},
   "outputs": [
    {
     "name": "stdout",
     "output_type": "stream",
     "text": [
      "Total de aeródromos fechados: 165\n"
     ]
    }
   ],
   "source": [
    "filtro = \"Aeródromo FECHADO até\"\n",
    "aero_fechado = aisweb[aisweb.Status.str.contains(filtro) == True]\n",
    "print(f\"Total de aeródromos fechados: {aero_fechado.ICAO.count()}\")"
   ]
  },
  {
   "cell_type": "markdown",
   "metadata": {},
   "source": [
    "#### Aeródromos com dados faltando\n",
    "Estão iniciando atividade? ICAO consta no AISWeb, não foi exibida nenhuma mensagem de Status."
   ]
  },
  {
   "cell_type": "code",
   "execution_count": 12,
   "metadata": {},
   "outputs": [
    {
     "name": "stdout",
     "output_type": "stream",
     "text": [
      "Total de aeródromos com valores nulos: 62\n"
     ]
    }
   ],
   "source": [
    "aero_null = aisweb[aisweb.Cidade.isnull()]\n",
    "print(f\"Total de aeródromos com valores nulos: {aero_null.ICAO.count()}\")"
   ]
  },
  {
   "cell_type": "code",
   "execution_count": 13,
   "metadata": {},
   "outputs": [
    {
     "data": {
      "text/plain": [
       "timestamp     0\n",
       "ICAO          0\n",
       "CIAD         61\n",
       "Aeródromo    62\n",
       "Categoria     0\n",
       "Cidade       62\n",
       "UF           62\n",
       "Status        0\n",
       "NOTAM         0\n",
       "Debug         0\n",
       "dtype: int64"
      ]
     },
     "execution_count": 13,
     "metadata": {},
     "output_type": "execute_result"
    }
   ],
   "source": [
    "aero_null.isnull().sum()"
   ]
  },
  {
   "cell_type": "code",
   "execution_count": 14,
   "metadata": {},
   "outputs": [
    {
     "data": {
      "text/html": [
       "<div>\n",
       "<style scoped>\n",
       "    .dataframe tbody tr th:only-of-type {\n",
       "        vertical-align: middle;\n",
       "    }\n",
       "\n",
       "    .dataframe tbody tr th {\n",
       "        vertical-align: top;\n",
       "    }\n",
       "\n",
       "    .dataframe thead th {\n",
       "        text-align: right;\n",
       "    }\n",
       "</style>\n",
       "<table border=\"1\" class=\"dataframe\">\n",
       "  <thead>\n",
       "    <tr style=\"text-align: right;\">\n",
       "      <th></th>\n",
       "      <th>timestamp</th>\n",
       "      <th>ICAO</th>\n",
       "      <th>CIAD</th>\n",
       "      <th>Aeródromo</th>\n",
       "      <th>Categoria</th>\n",
       "      <th>Cidade</th>\n",
       "      <th>UF</th>\n",
       "      <th>Status</th>\n",
       "      <th>NOTAM</th>\n",
       "      <th>Debug</th>\n",
       "    </tr>\n",
       "  </thead>\n",
       "  <tbody>\n",
       "    <tr>\n",
       "      <th>572</th>\n",
       "      <td>2019-04-18T04:10:20.346286-03:00</td>\n",
       "      <td>SSXI</td>\n",
       "      <td>NaN</td>\n",
       "      <td>NaN</td>\n",
       "      <td>Privado</td>\n",
       "      <td>NaN</td>\n",
       "      <td>NaN</td>\n",
       "      <td>Localidade cancelada</td>\n",
       "      <td>[[[]]]</td>\n",
       "      <td>{'response_status_code': 200}</td>\n",
       "    </tr>\n",
       "    <tr>\n",
       "      <th>776</th>\n",
       "      <td>2019-04-18T04:13:15.719320-03:00</td>\n",
       "      <td>SJWH</td>\n",
       "      <td>NaN</td>\n",
       "      <td>NaN</td>\n",
       "      <td>Privado</td>\n",
       "      <td>NaN</td>\n",
       "      <td>NaN</td>\n",
       "      <td>Localidade não encontrada</td>\n",
       "      <td>[[[]]]</td>\n",
       "      <td>{'response_status_code': 200}</td>\n",
       "    </tr>\n",
       "    <tr>\n",
       "      <th>916</th>\n",
       "      <td>2019-04-18T04:15:42.500285-03:00</td>\n",
       "      <td>SITM</td>\n",
       "      <td>NaN</td>\n",
       "      <td>NaN</td>\n",
       "      <td>Privado</td>\n",
       "      <td>NaN</td>\n",
       "      <td>NaN</td>\n",
       "      <td>Localidade cancelada</td>\n",
       "      <td>[[[]]]</td>\n",
       "      <td>{'response_status_code': 200}</td>\n",
       "    </tr>\n",
       "    <tr>\n",
       "      <th>1160</th>\n",
       "      <td>2019-04-18T04:13:19.136320-03:00</td>\n",
       "      <td>SJZR</td>\n",
       "      <td>NaN</td>\n",
       "      <td>NaN</td>\n",
       "      <td>Privado</td>\n",
       "      <td>NaN</td>\n",
       "      <td>NaN</td>\n",
       "      <td>Localidade reservada. Aguardando portaria da A...</td>\n",
       "      <td>[[[]]]</td>\n",
       "      <td>{'response_status_code': 200}</td>\n",
       "    </tr>\n",
       "    <tr>\n",
       "      <th>1166</th>\n",
       "      <td>2019-04-18T04:13:42.893359-03:00</td>\n",
       "      <td>SDYG</td>\n",
       "      <td>NaN</td>\n",
       "      <td>NaN</td>\n",
       "      <td>Privado</td>\n",
       "      <td>NaN</td>\n",
       "      <td>NaN</td>\n",
       "      <td>Localidade reservada. Aguardando portaria da A...</td>\n",
       "      <td>[[[]]]</td>\n",
       "      <td>{'response_status_code': 200}</td>\n",
       "    </tr>\n",
       "  </tbody>\n",
       "</table>\n",
       "</div>"
      ],
      "text/plain": [
       "                             timestamp  ICAO CIAD Aeródromo Categoria Cidade  \\\n",
       "572   2019-04-18T04:10:20.346286-03:00  SSXI  NaN       NaN   Privado    NaN   \n",
       "776   2019-04-18T04:13:15.719320-03:00  SJWH  NaN       NaN   Privado    NaN   \n",
       "916   2019-04-18T04:15:42.500285-03:00  SITM  NaN       NaN   Privado    NaN   \n",
       "1160  2019-04-18T04:13:19.136320-03:00  SJZR  NaN       NaN   Privado    NaN   \n",
       "1166  2019-04-18T04:13:42.893359-03:00  SDYG  NaN       NaN   Privado    NaN   \n",
       "\n",
       "       UF                                             Status   NOTAM  \\\n",
       "572   NaN                               Localidade cancelada  [[[]]]   \n",
       "776   NaN                          Localidade não encontrada  [[[]]]   \n",
       "916   NaN                               Localidade cancelada  [[[]]]   \n",
       "1160  NaN  Localidade reservada. Aguardando portaria da A...  [[[]]]   \n",
       "1166  NaN  Localidade reservada. Aguardando portaria da A...  [[[]]]   \n",
       "\n",
       "                              Debug  \n",
       "572   {'response_status_code': 200}  \n",
       "776   {'response_status_code': 200}  \n",
       "916   {'response_status_code': 200}  \n",
       "1160  {'response_status_code': 200}  \n",
       "1166  {'response_status_code': 200}  "
      ]
     },
     "execution_count": 14,
     "metadata": {},
     "output_type": "execute_result"
    }
   ],
   "source": [
    "aero_null.head()"
   ]
  },
  {
   "cell_type": "markdown",
   "metadata": {},
   "source": [
    "## NOTAM"
   ]
  },
  {
   "cell_type": "markdown",
   "metadata": {},
   "source": [
    "#### Aeródromos contendo a string \"AD CLSD DEVIDO NAO APRESENTACAO DO PLANO BASICO DE ZONA DE PROTECAO\""
   ]
  },
  {
   "cell_type": "code",
   "execution_count": 28,
   "metadata": {},
   "outputs": [
    {
     "ename": "KeyError",
     "evalue": "\"None of [Float64Index([nan, nan, nan, nan, nan, nan, nan, nan, nan, nan,\\n              ...\\n              nan, nan, nan, nan, nan, nan, nan, nan, nan, nan],\\n             dtype='float64', length=2630)] are in the [columns]\"",
     "output_type": "error",
     "traceback": [
      "\u001b[1;31m---------------------------------------------------------------------------\u001b[0m",
      "\u001b[1;31mKeyError\u001b[0m                                  Traceback (most recent call last)",
      "\u001b[1;32m<ipython-input-28-207e2e8973b3>\u001b[0m in \u001b[0;36m<module>\u001b[1;34m\u001b[0m\n\u001b[0;32m      1\u001b[0m \u001b[0mfiltro\u001b[0m \u001b[1;33m=\u001b[0m \u001b[1;34m\"AD CLSD DEVIDO NAO APRESENTACAO DO PLANO BASICO DE ZONA DE PROTECAO\"\u001b[0m\u001b[1;33m\u001b[0m\u001b[1;33m\u001b[0m\u001b[0m\n\u001b[1;32m----> 2\u001b[1;33m \u001b[0mad_clsd_pbzpa\u001b[0m \u001b[1;33m=\u001b[0m \u001b[0maisweb\u001b[0m\u001b[1;33m[\u001b[0m\u001b[0maisweb\u001b[0m\u001b[1;33m.\u001b[0m\u001b[0mNOTAM\u001b[0m\u001b[1;33m.\u001b[0m\u001b[0mstr\u001b[0m\u001b[1;33m.\u001b[0m\u001b[0mcontains\u001b[0m\u001b[1;33m(\u001b[0m\u001b[0mfiltro\u001b[0m\u001b[1;33m)\u001b[0m\u001b[1;33m]\u001b[0m\u001b[1;33m\u001b[0m\u001b[1;33m\u001b[0m\u001b[0m\n\u001b[0m\u001b[0;32m      3\u001b[0m \u001b[0mprint\u001b[0m\u001b[1;33m(\u001b[0m\u001b[1;34mf\"Total de aeródromos com \\\"AD CLSD DEVIDO NAO APRESENTACAO DO PLANO BASICO DE ZONA DE PROTECAO\\\": {ad_clsd_pbzpa.ICAO.count()}\"\u001b[0m\u001b[1;33m)\u001b[0m\u001b[1;33m\u001b[0m\u001b[1;33m\u001b[0m\u001b[0m\n",
      "\u001b[1;32mE:\\ProgramData\\Anaconda3\\lib\\site-packages\\pandas\\core\\frame.py\u001b[0m in \u001b[0;36m__getitem__\u001b[1;34m(self, key)\u001b[0m\n\u001b[0;32m   2932\u001b[0m                 \u001b[0mkey\u001b[0m \u001b[1;33m=\u001b[0m \u001b[0mlist\u001b[0m\u001b[1;33m(\u001b[0m\u001b[0mkey\u001b[0m\u001b[1;33m)\u001b[0m\u001b[1;33m\u001b[0m\u001b[1;33m\u001b[0m\u001b[0m\n\u001b[0;32m   2933\u001b[0m             indexer = self.loc._convert_to_indexer(key, axis=1,\n\u001b[1;32m-> 2934\u001b[1;33m                                                    raise_missing=True)\n\u001b[0m\u001b[0;32m   2935\u001b[0m \u001b[1;33m\u001b[0m\u001b[0m\n\u001b[0;32m   2936\u001b[0m         \u001b[1;31m# take() does not accept boolean indexers\u001b[0m\u001b[1;33m\u001b[0m\u001b[1;33m\u001b[0m\u001b[1;33m\u001b[0m\u001b[0m\n",
      "\u001b[1;32mE:\\ProgramData\\Anaconda3\\lib\\site-packages\\pandas\\core\\indexing.py\u001b[0m in \u001b[0;36m_convert_to_indexer\u001b[1;34m(self, obj, axis, is_setter, raise_missing)\u001b[0m\n\u001b[0;32m   1352\u001b[0m                 kwargs = {'raise_missing': True if is_setter else\n\u001b[0;32m   1353\u001b[0m                           raise_missing}\n\u001b[1;32m-> 1354\u001b[1;33m                 \u001b[1;32mreturn\u001b[0m \u001b[0mself\u001b[0m\u001b[1;33m.\u001b[0m\u001b[0m_get_listlike_indexer\u001b[0m\u001b[1;33m(\u001b[0m\u001b[0mobj\u001b[0m\u001b[1;33m,\u001b[0m \u001b[0maxis\u001b[0m\u001b[1;33m,\u001b[0m \u001b[1;33m**\u001b[0m\u001b[0mkwargs\u001b[0m\u001b[1;33m)\u001b[0m\u001b[1;33m[\u001b[0m\u001b[1;36m1\u001b[0m\u001b[1;33m]\u001b[0m\u001b[1;33m\u001b[0m\u001b[1;33m\u001b[0m\u001b[0m\n\u001b[0m\u001b[0;32m   1355\u001b[0m         \u001b[1;32melse\u001b[0m\u001b[1;33m:\u001b[0m\u001b[1;33m\u001b[0m\u001b[1;33m\u001b[0m\u001b[0m\n\u001b[0;32m   1356\u001b[0m             \u001b[1;32mtry\u001b[0m\u001b[1;33m:\u001b[0m\u001b[1;33m\u001b[0m\u001b[1;33m\u001b[0m\u001b[0m\n",
      "\u001b[1;32mE:\\ProgramData\\Anaconda3\\lib\\site-packages\\pandas\\core\\indexing.py\u001b[0m in \u001b[0;36m_get_listlike_indexer\u001b[1;34m(self, key, axis, raise_missing)\u001b[0m\n\u001b[0;32m   1159\u001b[0m         self._validate_read_indexer(keyarr, indexer,\n\u001b[0;32m   1160\u001b[0m                                     \u001b[0mo\u001b[0m\u001b[1;33m.\u001b[0m\u001b[0m_get_axis_number\u001b[0m\u001b[1;33m(\u001b[0m\u001b[0maxis\u001b[0m\u001b[1;33m)\u001b[0m\u001b[1;33m,\u001b[0m\u001b[1;33m\u001b[0m\u001b[1;33m\u001b[0m\u001b[0m\n\u001b[1;32m-> 1161\u001b[1;33m                                     raise_missing=raise_missing)\n\u001b[0m\u001b[0;32m   1162\u001b[0m         \u001b[1;32mreturn\u001b[0m \u001b[0mkeyarr\u001b[0m\u001b[1;33m,\u001b[0m \u001b[0mindexer\u001b[0m\u001b[1;33m\u001b[0m\u001b[1;33m\u001b[0m\u001b[0m\n\u001b[0;32m   1163\u001b[0m \u001b[1;33m\u001b[0m\u001b[0m\n",
      "\u001b[1;32mE:\\ProgramData\\Anaconda3\\lib\\site-packages\\pandas\\core\\indexing.py\u001b[0m in \u001b[0;36m_validate_read_indexer\u001b[1;34m(self, key, indexer, axis, raise_missing)\u001b[0m\n\u001b[0;32m   1244\u001b[0m                 raise KeyError(\n\u001b[0;32m   1245\u001b[0m                     u\"None of [{key}] are in the [{axis}]\".format(\n\u001b[1;32m-> 1246\u001b[1;33m                         key=key, axis=self.obj._get_axis_name(axis)))\n\u001b[0m\u001b[0;32m   1247\u001b[0m \u001b[1;33m\u001b[0m\u001b[0m\n\u001b[0;32m   1248\u001b[0m             \u001b[1;31m# We (temporarily) allow for some missing keys with .loc, except in\u001b[0m\u001b[1;33m\u001b[0m\u001b[1;33m\u001b[0m\u001b[1;33m\u001b[0m\u001b[0m\n",
      "\u001b[1;31mKeyError\u001b[0m: \"None of [Float64Index([nan, nan, nan, nan, nan, nan, nan, nan, nan, nan,\\n              ...\\n              nan, nan, nan, nan, nan, nan, nan, nan, nan, nan],\\n             dtype='float64', length=2630)] are in the [columns]\""
     ]
    }
   ],
   "source": [
    "filtro = \"AD CLSD DEVIDO NAO APRESENTACAO DO PLANO BASICO DE ZONA DE PROTECAO\"\n",
    "ad_clsd_pbzpa = aisweb[aisweb.NOTAM.str.contains(filtro)]\n",
    "print(f\"Total de aeródromos com \\\"AD CLSD DEVIDO NAO APRESENTACAO DO PLANO BASICO DE ZONA DE PROTECAO\\\": {ad_clsd_pbzpa.ICAO.count()}\")"
   ]
  },
  {
   "cell_type": "markdown",
   "metadata": {},
   "source": [
    "#### Com fechamento não revogado ou está agendado para fechamento"
   ]
  },
  {
   "cell_type": "code",
   "execution_count": null,
   "metadata": {},
   "outputs": [],
   "source": [
    "filtro = \".*Revogado INFOTEMP [0-9]*/[0-9]*.{0,6}AD CLSD DEVIDO NAO APRESENTACAO DO PLANO BASICO DE ZONA DE PROTECAO.*\"\n",
    "oportunidades = ad_clsd_pbzpa[~ad_clsd_pbzpa.NOTAM.str.contains(filtro, regex=True) & ad_clsd_pbzpa.Status.str.contains('Aeródromo FECHADO')]\n",
    "print(f\"Total de prospects para novos negócios: {oportunidades.ICAO.count()}\")"
   ]
  },
  {
   "cell_type": "markdown",
   "metadata": {},
   "source": [
    "#### Revogado o fechamento"
   ]
  },
  {
   "cell_type": "code",
   "execution_count": null,
   "metadata": {},
   "outputs": [],
   "source": [
    "filtro = \".*Revogado INFOTEMP [0-9]*/[0-9]*.{0,6}AD CLSD DEVIDO NAO APRESENTACAO DO PLANO BASICO DE ZONA DE PROTECAO.*\"\n",
    "ad_clsd_pbzpa_rev = ad_clsd_pbzpa[ad_clsd_pbzpa.NOTAM.str.contains(filtro, regex=True)]\n",
    "print(f\"Total de aeródromos com \\\"AD CLSD\\\" revogado: {ad_clsd_pbzpa_rev.ICAO.count()}\")"
   ]
  },
  {
   "cell_type": "markdown",
   "metadata": {},
   "source": [
    "#### Com fechamento revogado, mas somente em missões de caráter emergencial\n",
    "ou seja, candidatos para INFRACEA | Social. Da retorno de mídia. Será que há empresas com interesse na facilitação de acesso à região? Será há benefício fiscal para empresas que financiarem o produto PBZPA da INFRACEA nestas regiões?"
   ]
  },
  {
   "cell_type": "code",
   "execution_count": null,
   "metadata": {},
   "outputs": [],
   "source": [
    "filtro = \"CARATER EMERGENCIAL\"\n",
    "ad_clsd_pbzpa_rev_emg = ad_clsd_pbzpa_rev[ad_clsd_pbzpa_rev.NOTAM.str.contains(filtro)]\n",
    "print(f\"Total de aeródromos com \\\"AD CLSD\\\" revogado em caráter emergencial: {ad_clsd_pbzpa_rev_emg.ICAO.count()}\")"
   ]
  },
  {
   "cell_type": "markdown",
   "metadata": {},
   "source": [
    "#### Revogação do fechamento ratificada\n",
    "situação inferida: gestão fraca? Estão desesperados esperando a INFRACEA | Aeroportos?"
   ]
  },
  {
   "cell_type": "code",
   "execution_count": null,
   "metadata": {},
   "outputs": [],
   "source": [
    "ad_clsd_pbzpa_rev_ratif = ad_clsd_pbzpa_rev[ad_clsd_pbzpa_rev.ICAO.isin(aero_fechado.ICAO)]\n",
    "print(f\"Total de aeródromos com funcionamento turbulento: {ad_clsd_pbzpa_rev_ratif.ICAO.count()}\")"
   ]
  },
  {
   "cell_type": "markdown",
   "metadata": {},
   "source": [
    "##### Exportar para excel"
   ]
  },
  {
   "cell_type": "code",
   "execution_count": null,
   "metadata": {},
   "outputs": [],
   "source": [
    "#ad_clsd_pbzpa.to_excel('notam_ad_clsd_pbzpa.xlsx', index=False, na_rep='')"
   ]
  },
  {
   "cell_type": "code",
   "execution_count": null,
   "metadata": {},
   "outputs": [],
   "source": []
  }
 ],
 "metadata": {
  "kernelspec": {
   "display_name": "Python 3",
   "language": "python",
   "name": "python3"
  },
  "language_info": {
   "codemirror_mode": {
    "name": "ipython",
    "version": 3
   },
   "file_extension": ".py",
   "mimetype": "text/x-python",
   "name": "python",
   "nbconvert_exporter": "python",
   "pygments_lexer": "ipython3",
   "version": "3.7.3"
  }
 },
 "nbformat": 4,
 "nbformat_minor": 2
}
