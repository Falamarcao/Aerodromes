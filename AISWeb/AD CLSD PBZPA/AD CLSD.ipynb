{
 "cells": [
  {
   "cell_type": "markdown",
   "metadata": {},
   "source": [
    "# Estudo de oportunidades para PBZPA"
   ]
  },
  {
   "cell_type": "code",
   "execution_count": 1,
   "metadata": {},
   "outputs": [],
   "source": [
    "# helper function\n",
    "from os import listdir\n",
    "def dir_files(name: str, folder: str = None):\n",
    "    if folder:\n",
    "        files = [folder + e for e in listdir(folder) if (e[-4:] == \".xls\") or (e[-4:] == \".csv\")]\n",
    "    else:\n",
    "        files = [e for e in listdir() if (e[-4:] == \".xls\") or (e[-4:] == \".csv\")]\n",
    "    print(f\"{name}: {', '.join(files)}\")\n",
    "    return files"
   ]
  },
  {
   "cell_type": "code",
   "execution_count": 8,
   "metadata": {},
   "outputs": [
    {
     "name": "stdout",
     "output_type": "stream",
     "text": [
      "Aeródromos públicos e privados: E:/Users/falam/IdeaProjects/Aerodromos/ANAC/Beta/public_private/Aeródromos Privados_28MAR2019.xls, E:/Users/falam/IdeaProjects/Aerodromos/ANAC/Beta/public_private/Aeródromos Públicos_28MAR2019.xls\n",
      "\n",
      "\n",
      "AISWeb: output_aisweb_c788f86d66.csv\n"
     ]
    }
   ],
   "source": [
    "from pandas import read_excel\n",
    "from pandas import read_csv\n",
    "\n",
    "public_private = dir_files('Aeródromos públicos e privados', r'E:/Users/falam/IdeaProjects/Aerodromos/ANAC/Beta/public_private/')\n",
    "aerodromos_publicos =  read_excel(public_private[1], sheet_name=0, header=[1,2])\n",
    "aerodromos_privados = read_excel(public_private[0], sheet_name=0, header=[0,1])\n",
    "\n",
    "print('\\n')\n",
    "\n",
    "aisweb = dir_files('AISWeb')\n",
    "# aisweb =  read_csv(aisweb[0], sep=',', encoding='latin-1')\n",
    "\n",
    "# aisweb.insert(loc=4, column=\"Categoria\",value='')\n",
    "# icao_aeropublicos = aerodromos_publicos.iloc[:,0].values\n",
    "# icao_aeroprivados = aerodromos_privados.iloc[:,0].values\n",
    "# for i, icao in enumerate(aisweb.ICAO):\n",
    "#     if icao in icao_aeropublicos:\n",
    "#         aisweb.at[i, 'Categoria'] = 'Público'\n",
    "#     elif icao in icao_aeroprivados:\n",
    "#         aisweb.at[i, 'Categoria'] = 'Privado'"
   ]
  },
  {
   "cell_type": "code",
   "execution_count": null,
   "metadata": {},
   "outputs": [],
   "source": [
    "aisweb.count()"
   ]
  },
  {
   "cell_type": "markdown",
   "metadata": {},
   "source": [
    "### Há valores nulos?"
   ]
  },
  {
   "cell_type": "code",
   "execution_count": null,
   "metadata": {},
   "outputs": [],
   "source": [
    "aisweb.isnull().sum()"
   ]
  },
  {
   "cell_type": "markdown",
   "metadata": {},
   "source": [
    "### Aeródromos não encontrados (fechado, localidade cancelada, Localidade reservada aguardando portaria da ANAC)"
   ]
  },
  {
   "cell_type": "markdown",
   "metadata": {},
   "source": [
    "#### Aeródromos que constam na lista da ANAC, mas não foram encontrados no AISWeb"
   ]
  },
  {
   "cell_type": "code",
   "execution_count": null,
   "metadata": {},
   "outputs": [],
   "source": [
    "aero_naoencontrado = aisweb[aisweb.Status == \"O aeródromo não foi encontrado\"]\n",
    "print(f\"Total de aeródromos com Status: {aero_naoencontrado.ICAO.count()}\")"
   ]
  },
  {
   "cell_type": "markdown",
   "metadata": {},
   "source": [
    "#### Localidade cancelada"
   ]
  },
  {
   "cell_type": "code",
   "execution_count": null,
   "metadata": {},
   "outputs": [],
   "source": [
    "aero_localizacao_cancelada = aisweb[aisweb.Status == \"Localidade cancelada\"]\n",
    "print(f\"Total de aeródromos ({aero_localizacao_cancelada.Status[:1].item()}): {aero_localizacao_cancelada.ICAO.count()}\")"
   ]
  },
  {
   "cell_type": "markdown",
   "metadata": {},
   "source": [
    "#### Aeródromos com localidade reservada aguardando portaria da ANAC"
   ]
  },
  {
   "cell_type": "code",
   "execution_count": null,
   "metadata": {},
   "outputs": [],
   "source": [
    "aero_localizacao_reservada = aisweb[aisweb.Status == \"Localidade reservada. Aguardando portaria da ANAC.\"]\n",
    "print(f\"Total de aeródromos ({aero_localizacao_reservada.Status[:1].item()}): {aero_localizacao_reservada.ICAO.count()}\")"
   ]
  },
  {
   "cell_type": "markdown",
   "metadata": {},
   "source": [
    "#### Aeródromos fechados até determinada data"
   ]
  },
  {
   "cell_type": "code",
   "execution_count": null,
   "metadata": {},
   "outputs": [],
   "source": [
    "filtro = \"Aeródromo FECHADO até\"\n",
    "aero_fechado = aisweb[aisweb.Status.str.contains(filtro) == True]\n",
    "print(f\"Total de aeródromos fechados: {aero_fechado.ICAO.count()}\")"
   ]
  },
  {
   "cell_type": "markdown",
   "metadata": {},
   "source": [
    "#### Aeródromos com dados faltando\n",
    "Estão iniciando atividade? ICAO consta no AISWeb, não foi exibida nenhuma mensagem de Status."
   ]
  },
  {
   "cell_type": "code",
   "execution_count": null,
   "metadata": {},
   "outputs": [],
   "source": [
    "aero_null = aisweb[aisweb.Cidade.isnull()]\n",
    "print(f\"Total de aeródromos com valores nulos: {aero_null.ICAO.count()}\")"
   ]
  },
  {
   "cell_type": "code",
   "execution_count": null,
   "metadata": {},
   "outputs": [],
   "source": [
    "aero_null.isnull().sum()"
   ]
  },
  {
   "cell_type": "code",
   "execution_count": null,
   "metadata": {},
   "outputs": [],
   "source": [
    "aero_null.head()"
   ]
  },
  {
   "cell_type": "markdown",
   "metadata": {},
   "source": [
    "## NOTAM"
   ]
  },
  {
   "cell_type": "markdown",
   "metadata": {},
   "source": [
    "#### Aeródromos contendo a string \"AD CLSD DEVIDO NAO APRESENTACAO DO PLANO BASICO DE ZONA DE PROTECAO\""
   ]
  },
  {
   "cell_type": "code",
   "execution_count": null,
   "metadata": {},
   "outputs": [],
   "source": [
    "filtro = \"AD CLSD DEVIDO NAO APRESENTACAO DO PLANO BASICO DE ZONA DE PROTECAO\"\n",
    "ad_clsd_pbzpa = aisweb[aisweb.NOTAM.str.contains(filtro)]\n",
    "print(f\"Total de aeródromos com \\\"AD CLSD DEVIDO NAO APRESENTACAO DO PLANO BASICO DE ZONA DE PROTECAO\\\": {ad_clsd_pbzpa.ICAO.count()}\")"
   ]
  },
  {
   "cell_type": "code",
   "execution_count": null,
   "metadata": {},
   "outputs": [],
   "source": [
    "ad_clsd_pbzpa.head()"
   ]
  },
  {
   "cell_type": "markdown",
   "metadata": {},
   "source": [
    "#### Com fechamento não revogado ou está agendado para fechamento"
   ]
  },
  {
   "cell_type": "code",
   "execution_count": null,
   "metadata": {},
   "outputs": [],
   "source": [
    "filtro = \".*Revogado INFOTEMP [0-9]*/[0-9]*.{0,6}AD CLSD DEVIDO NAO APRESENTACAO DO PLANO BASICO DE ZONA DE PROTECAO.*\"\n",
    "oportunidades = ad_clsd_pbzpa[~ad_clsd_pbzpa.NOTAM.str.contains(filtro, regex=True) & ad_clsd_pbzpa.Status.str.contains('Aeródromo FECHADO')]\n",
    "print(f\"Total de prospects para novos negócios: {oportunidades.ICAO.count()}\")"
   ]
  },
  {
   "cell_type": "markdown",
   "metadata": {},
   "source": [
    "#### Revogado o fechamento"
   ]
  },
  {
   "cell_type": "code",
   "execution_count": null,
   "metadata": {},
   "outputs": [],
   "source": [
    "filtro = \".*Revogado INFOTEMP [0-9]*/[0-9]*.{0,6}AD CLSD DEVIDO NAO APRESENTACAO DO PLANO BASICO DE ZONA DE PROTECAO.*\"\n",
    "ad_clsd_pbzpa_rev = ad_clsd_pbzpa[ad_clsd_pbzpa.NOTAM.str.contains(filtro, regex=True)]\n",
    "print(f\"Total de aeródromos com \\\"AD CLSD\\\" revogado: {ad_clsd_pbzpa_rev.ICAO.count()}\")"
   ]
  },
  {
   "cell_type": "markdown",
   "metadata": {},
   "source": [
    "#### Com fechamento revogado, mas somente em missões de caráter emergencial\n",
    "ou seja, candidatos para INFRACEA | Social. Da retorno de mídia. Será que há empresas com interesse na facilitação de acesso à região? Será há benefício fiscal para empresas que financiarem o produto PBZPA da INFRACEA nestas regiões?"
   ]
  },
  {
   "cell_type": "code",
   "execution_count": null,
   "metadata": {},
   "outputs": [],
   "source": [
    "filtro = \"CARATER EMERGENCIAL\"\n",
    "ad_clsd_pbzpa_rev_emg = ad_clsd_pbzpa_rev[ad_clsd_pbzpa_rev.NOTAM.str.contains(filtro)]\n",
    "print(f\"Total de aeródromos com \\\"AD CLSD\\\" revogado em caráter emergencial: {ad_clsd_pbzpa_rev_emg.ICAO.count()}\")"
   ]
  },
  {
   "cell_type": "markdown",
   "metadata": {},
   "source": [
    "#### Revogação do fechamento ratificada\n",
    "situação inferida: gestão fraca? Estão desesperados esperando a INFRACEA | Aeroportos?"
   ]
  },
  {
   "cell_type": "code",
   "execution_count": null,
   "metadata": {},
   "outputs": [],
   "source": [
    "ad_clsd_pbzpa_rev_ratif = ad_clsd_pbzpa_rev[ad_clsd_pbzpa_rev.ICAO.isin(aero_fechado.ICAO)]\n",
    "print(f\"Total de aeródromos com funcionamento turbulento: {ad_clsd_pbzpa_rev_ratif.ICAO.count()}\")"
   ]
  },
  {
   "cell_type": "markdown",
   "metadata": {},
   "source": [
    "##### Exportar para excel"
   ]
  },
  {
   "cell_type": "code",
   "execution_count": null,
   "metadata": {},
   "outputs": [],
   "source": [
    "#ad_clsd_pbzpa.to_excel('notam_ad_clsd_pbzpa.xlsx', index=False, na_rep='')"
   ]
  },
  {
   "cell_type": "code",
   "execution_count": null,
   "metadata": {},
   "outputs": [],
   "source": []
  }
 ],
 "metadata": {
  "kernelspec": {
   "display_name": "Python 3",
   "language": "python",
   "name": "python3"
  },
  "language_info": {
   "codemirror_mode": {
    "name": "ipython",
    "version": 3
   },
   "file_extension": ".py",
   "mimetype": "text/x-python",
   "name": "python",
   "nbconvert_exporter": "python",
   "pygments_lexer": "ipython3",
   "version": "3.7.3"
  }
 },
 "nbformat": 4,
 "nbformat_minor": 2
}
